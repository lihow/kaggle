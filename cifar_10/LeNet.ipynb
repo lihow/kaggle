{
 "cells": [
  {
   "cell_type": "code",
   "execution_count": 6,
   "metadata": {},
   "outputs": [],
   "source": [
    "import os\n",
    "import cv2\n",
    "import glob\n",
    "import random\n",
    "import numpy as np\n",
    "import imgaug as ia\n",
    "import pandas as pd\n",
    "import tensorflow as tf\n",
    "from natsort import natsorted\n",
    "import matplotlib.pyplot as plt\n",
    "from imgaug import augmenters as iaa\n",
    "from imgaug import parameters as iap\n",
    "from skimage.transform import resize\n",
    "from skimage.io import imread, imsave\n",
    "from sklearn.metrics import confusion_matrix\n",
    "from skimage import transform, filters, exposure\n",
    "\n",
    "os.environ['CUDA_VISIBLE_DEVICES']='2'\n",
    "%matplotlib inline"
   ]
  },
  {
   "cell_type": "code",
   "execution_count": 36,
   "metadata": {},
   "outputs": [],
   "source": [
    "label2int = {'airplane':0, 'automobile':1, 'bird':2, 'cat':3, 'deer':4, 'dog':5, 'frog':6, 'horse':7, 'ship':8, 'truck':9}\n",
    "int2lable = {0:'airplane', 1:'automobile', 2:'bird', 3:'cat', 4:'deer', 5:'dog', 6:'frog', 7:'horse', 8:'ship', 9:'truck'}"
   ]
  },
  {
   "cell_type": "code",
   "execution_count": 3,
   "metadata": {},
   "outputs": [],
   "source": [
    "#图片数据持久化，保存到本地，供下次直接调用 由于测试集比较大，本次只抽取训练集\n",
    "def data_preprocessing(data_path, resize=True, img_rows=32, img_cols=32):\n",
    "    if (os.path.exists(data_path + '/' + 'train_' + str(img_rows) +  '_' + str(img_cols) + '.npy') \n",
    "        #and os.path.exists(data_path + '/' + 'test_' + str(img_rows) +  '_' + str(img_cols) + '.npy') \n",
    "        and os.path.exists(data_path + '/' + 'labels.npy')):\n",
    "        print('data have already processed')\n",
    "    else:\n",
    "        ### Image preprocessing ###\n",
    "        if resize == True:\n",
    "            if not os.path.exists(data_path + \"/trainResized\"):\n",
    "                os.makedirs(data_path + \"/trainResized\")\n",
    "            if not os.path.exists(data_path + \"/testResized\"):\n",
    "                os.makedirs(data_path + \"/testResized\")\n",
    "        for set_type in ['train']:#, 'test']:\n",
    "            files = natsorted(glob.glob(data_path + '/' + set_type + '/*'))\n",
    "            data = np.zeros((len(files), img_rows, img_cols, 3))\n",
    "            for i, file_path in enumerate(files):\n",
    "                '''\n",
    "                img = imread(file_path, as_grey=True) #读入的图为[0, 1]图\n",
    "                img_resized = resize(img, (img_rows, img_cols))\n",
    "                data[i] = img_resized\n",
    "                #Save image\n",
    "                new_name = \"/\".join(file_path.split(\"/\")[:-1] ) + \"Resized/\" + file_path.split(\"/\")[-1]\n",
    "                imsave(new_name, img_resized)\n",
    "                '''\n",
    "                #利用opencv读取图片\n",
    "                img = cv2.imread(file_path) #读入彩色图\n",
    "                if resize == True:\n",
    "                    img_resized = cv2.resize(img, (img_rows, img_cols))#读入的[0, 255]的图\n",
    "                    data[i] = img_resized\n",
    "                    #Save image\n",
    "                    new_name = \"/\".join(file_path.split(\"/\")[:-1] ) + \"Resized/\" + file_path.split(\"/\")[-1]\n",
    "                    cv2.imwrite(new_name, img_resized) \n",
    "                else:\n",
    "                    data[i] = img\n",
    "            #Add channel/filter dimension [222, 32, 32] => [222, 1, 32, 32]\n",
    "            #train_img = np.stack(train_img)[..., None]\n",
    "            #data = data[:, :, :, np.newaxis]\n",
    "            data = data.astype('float32')\n",
    "            data /= 255\n",
    "            np.save(data_path + '/' + set_type + '_' + str(img_rows) +  '_' + str(img_cols) + '.npy', data)\n",
    "        ### Labels preprocessing ###\n",
    "        y_train = pd.read_csv(data_path + '/trainLabels.csv').values[:, 1]\n",
    "        #Convert one-hot vectors\n",
    "        Y_train = np.zeros((y_train.shape[0], len(np.unique(y_train))))\n",
    "        for i in range(y_train.shape[0]):\n",
    "            Y_train[i][label2int[y_train[i]]] = 1\n",
    "        np.save(data_path + '/' + 'labels.npy', Y_train)\n",
    "    X_train_all = np.load(data_path + '/' + 'train_' + str(img_rows) +  '_' + str(img_cols) + '.npy')\n",
    "    Y_train_all = np.load(data_path + '/' + 'labels.npy')\n",
    "    #test_all = np.load(data_path + '/' + 'test_' + str(img_rows) +  '_' + str(img_cols) + '.npy')\n",
    "    print('Finish')\n",
    "    return X_train_all, Y_train_all#, test_all"
   ]
  },
  {
   "cell_type": "code",
   "execution_count": 18,
   "metadata": {},
   "outputs": [
    {
     "name": "stdout",
     "output_type": "stream",
     "text": [
      "data have already processed\n",
      "Finish\n"
     ]
    }
   ],
   "source": [
    "data_path = 'data'\n",
    "X_train_all, Y_train_all = data_preprocessing(data_path, resize=False)"
   ]
  },
  {
   "cell_type": "code",
   "execution_count": 19,
   "metadata": {},
   "outputs": [
    {
     "name": "stdout",
     "output_type": "stream",
     "text": [
      "(50000, 32, 32, 3) (50000, 10)\n",
      "(32, 32, 3)\n",
      "bird\n",
      "float32\n"
     ]
    },
    {
     "data": {
      "image/png": "[encoded data removed]",
      "text/plain": [
       "<Figure size 432x288 with 1 Axes>"
      ]
     },
     "metadata": {},
     "output_type": "display_data"
    }
   ],
   "source": [
    "print(X_train_all.shape, Y_train_all.shape)\n",
    "sample_id = 6\n",
    "sample_x = X_train_all[sample_id]\n",
    "print(X_train_all[sample_id].shape)\n",
    "print(int2lable[np.argmax(Y_train_all[sample_id], axis=0)])\n",
    "plt.title('train sample', size=16)\n",
    "plt.imshow(sample_x[..., 0])\n",
    "print(X_train_all.dtype)"
   ]
  },
  {
   "cell_type": "code",
   "execution_count": 20,
   "metadata": {},
   "outputs": [
    {
     "name": "stdout",
     "output_type": "stream",
     "text": [
      "(49000, 32, 32, 3) (1000, 32, 32, 3)\n",
      "(10,)\n",
      "[[0.99607843 1.         0.99215686 ... 0.87058824 0.7647059  0.8627451 ]\n",
      " [0.99607843 0.99607843 0.99607843 ... 0.78039217 0.9137255  0.8       ]\n",
      " [0.9607843  0.99215686 0.98039216 ... 0.95686275 0.972549   0.95686275]\n",
      " ...\n",
      " [0.07843138 0.13725491 0.11372549 ... 0.7411765  0.92156863 0.72156864]\n",
      " [0.05098039 0.15686275 0.24705882 ... 0.84313726 0.8117647  0.6156863 ]\n",
      " [0.58431375 0.23529412 0.3019608  ... 0.9098039  0.78431374 0.6901961 ]]\n"
     ]
    }
   ],
   "source": [
    "### 划分验证集 ###\n",
    "#打乱顺序\n",
    "num_example=X_train_all.shape[0]\n",
    "arr=np.arange(num_example)\n",
    "np.random.shuffle(arr)\n",
    "X_train_all=X_train_all[arr]\n",
    "Y_train_all=Y_train_all[arr]\n",
    "\n",
    "VALIDATION_SIZE = 1000    #验证集大小\n",
    "x_val, y_val = X_train_all[:VALIDATION_SIZE], Y_train_all[:VALIDATION_SIZE]\n",
    "x_train, y_train = X_train_all[VALIDATION_SIZE:], Y_train_all[VALIDATION_SIZE:]\n",
    "print(x_train.shape, x_val.shape)\n",
    "print(y_val[0].shape)\n",
    "print(x_train[5][..., 0])"
   ]
  },
  {
   "cell_type": "code",
   "execution_count": 89,
   "metadata": {},
   "outputs": [],
   "source": [
    "def batch_augment(data):\n",
    "    seq = iaa.Sequential([\n",
    "        iaa.Crop(percent=0.01), # # 从每侧裁剪图像0到16px（随机选择）\n",
    "        iaa.Fliplr(0.5), # 水平翻转图像 括号内为Probability of each image to get flipped.\n",
    "        iaa.Flipud(0.5), #上下翻转\n",
    "        #iaa.GaussianBlur(sigma=(0, 3.0)),  # 使用0到3.0的sigma模糊图像\n",
    "        iaa.Affine(scale=(0.7, 1.3), translate_percent=0.01, rotate=iap.Normal(-10, 10)),#旋转\n",
    "        iaa.Multiply(iap.Positive(iap.Normal(0.0, 0.1)) + 1.0),#明暗变化\n",
    "        #iaa.AddElementwise(iap.Discretize((iap.Beta(0.5, 0.5) * 2 - 1.0) * 64))\n",
    "        #iaa.AdditiveGaussianNoise(scale=(0,  0.05*255)),\n",
    "        iaa.Sharpen(alpha=0.5),\n",
    "        #iaa.Scale((0.5, 1.5))\n",
    "    ],random_order=True)#每个batch中的Augmenters顺序不一样\n",
    "    x_batch = seq.augment_images(data)\n",
    "    return x_batch"
   ]
  },
  {
   "cell_type": "code",
   "execution_count": null,
   "metadata": {},
   "outputs": [],
   "source": [
    "#展示数据扩增后的效果\n",
    "imglist = []\n",
    "#img = imread('data/train/3006.Bmp', as_grey=True)\n",
    "sample_id = 6\n",
    "sample_x = X_train_all[sample_id]\n",
    "#img = cv2.imread('data/train/2212.Bmp', 0)\n",
    "#plt.subplot(2, 10, 1)\n",
    "plt.imshow(sample_x)\n",
    "plt.show()\n",
    "imglist.append(sample_x)\n",
    "for i in range(10):\n",
    "    images_aug = seq.augment_images(imglist)\n",
    "    plt.subplot(1, 10, i+1)\n",
    "    plt.imshow(images_aug[0])\n",
    "plt.show()"
   ]
  },
  {
   "cell_type": "code",
   "execution_count": 14,
   "metadata": {},
   "outputs": [],
   "source": [
    "#定义模型 lenet\n",
    "def LeNet_5(x, classnum):\n",
    "    with tf.name_scope('layer1-conv'):\n",
    "        conv1 = tf.layers.conv2d(x, 6, 5, strides=1, padding='VALID')\n",
    "        relu1 = tf.nn.relu(conv1)\n",
    "    with tf.name_scope('layer2-pool'):\n",
    "        pool2 = tf.layers.max_pooling2d(relu1, pool_size=[2, 2], strides=2, padding='SAME')\n",
    "    with tf.name_scope('layer3-conv'):\n",
    "        conv3 = tf.layers.conv2d(pool2, 16, 5, strides=1, padding='VALID')\n",
    "        relu3 = tf.nn.relu(conv3)\n",
    "    with tf.name_scope('layer4-pool'):\n",
    "        pool4 = tf.layers.max_pooling2d(relu3, pool_size=[2, 2], strides=2, padding='SAME')\n",
    "    with tf.name_scope('layer5-FC'):\n",
    "        flatten = tf.reshape(pool4, [-1, 5*5*16])\n",
    "        fc5 = tf.layers.dense(flatten, 120)\n",
    "        relu5 = tf.nn.relu(fc5)\n",
    "    with tf.name_scope('layer6-fc'):\n",
    "        fc6 = tf.layers.dense(relu5, 84)\n",
    "        relu6 = tf.nn.relu(fc6)\n",
    "    with tf.name_scope('layer7-fc'):\n",
    "        output = tf.layers.dense(relu6, classnum)\n",
    "    return output"
   ]
  },
  {
   "cell_type": "code",
   "execution_count": 90,
   "metadata": {},
   "outputs": [
    {
     "name": "stdout",
     "output_type": "stream",
     "text": [
      "epoch 0 train loss is 1.329217 validataion loss is 1.609813 accuracy is 0.413000\n",
      "----epoch 0 current best_validation_loss is 1.609813\n",
      "epoch 5 train loss is 1.185284 validataion loss is 1.199822 accuracy is 0.584000\n",
      "----epoch 5 current best_validation_loss is 1.199822\n",
      "epoch 10 train loss is 0.964852 validataion loss is 1.135758 accuracy is 0.601000\n",
      "----epoch 10 current best_validation_loss is 1.135758\n",
      "epoch 15 train loss is 1.008341 validataion loss is 1.075241 accuracy is 0.626000\n",
      "----epoch 15 current best_validation_loss is 1.075241\n",
      "epoch 20 train loss is 0.867024 validataion loss is 1.123864 accuracy is 0.630000\n",
      "epoch 25 train loss is 0.912986 validataion loss is 1.081080 accuracy is 0.627000\n",
      "epoch 30 train loss is 0.856833 validataion loss is 1.080944 accuracy is 0.634000\n",
      "epoch 35 train loss is 0.859973 validataion loss is 1.066296 accuracy is 0.644000\n",
      "----epoch 35 current best_validation_loss is 1.066296\n",
      "epoch 40 train loss is 0.696139 validataion loss is 1.047598 accuracy is 0.649000\n",
      "----epoch 40 current best_validation_loss is 1.047598\n",
      "epoch 45 train loss is 0.669434 validataion loss is 1.115492 accuracy is 0.646000\n",
      "epoch 50 train loss is 0.785772 validataion loss is 1.102635 accuracy is 0.668000\n",
      "epoch 55 train loss is 0.479241 validataion loss is 1.107932 accuracy is 0.648000\n",
      "epoch 60 train loss is 0.610799 validataion loss is 1.121498 accuracy is 0.646000\n",
      "epoch 65 train loss is 0.527614 validataion loss is 1.097533 accuracy is 0.652000\n",
      "epoch 70 train loss is 0.570460 validataion loss is 1.229966 accuracy is 0.641000\n",
      "epoch 75 train loss is 0.468933 validataion loss is 1.153389 accuracy is 0.651000\n",
      "epoch 80 train loss is 0.832506 validataion loss is 1.250992 accuracy is 0.656000\n",
      "epoch 85 train loss is 0.282114 validataion loss is 1.236124 accuracy is 0.655000\n",
      "epoch 90 train loss is 0.465886 validataion loss is 1.187174 accuracy is 0.655000\n",
      "epoch 95 train loss is 0.381178 validataion loss is 1.312572 accuracy is 0.656000\n",
      "epoch 100 train loss is 0.558865 validataion loss is 1.383747 accuracy is 0.641000\n",
      "epoch 105 train loss is 0.348993 validataion loss is 1.388216 accuracy is 0.643000\n",
      "epoch 110 train loss is 0.456292 validataion loss is 1.429181 accuracy is 0.643000\n",
      "epoch 115 train loss is 0.386060 validataion loss is 1.458549 accuracy is 0.633000\n",
      "epoch 120 train loss is 0.394234 validataion loss is 1.411315 accuracy is 0.641000\n",
      "epoch 125 train loss is 0.372055 validataion loss is 1.502838 accuracy is 0.636000\n",
      "epoch 130 train loss is 0.395287 validataion loss is 1.525083 accuracy is 0.648000\n",
      "epoch 135 train loss is 0.288133 validataion loss is 1.647910 accuracy is 0.638000\n",
      "epoch 140 train loss is 0.293804 validataion loss is 1.568848 accuracy is 0.649000\n",
      "early stoping\n"
     ]
    }
   ],
   "source": [
    "### 训练 ###\n",
    "### 训练 ###\n",
    "#训练参数\n",
    "BATCH_SIZE = 128\n",
    "EPOCHS = 500             #迭代次数\n",
    "EARLY_STOP_PATIENCE = 100 #控制early stopping的参数\n",
    "\n",
    "tf.reset_default_graph()\n",
    "x_data = tf.placeholder(tf.float32, [None, 32, 32, 3])\n",
    "y_data = tf.placeholder(tf.float32, [None, 10])\n",
    "ckpt_path = './model/lenet/mode.ckpt'\n",
    "\n",
    "predict = LeNet_5(x_data, 10)\n",
    "\n",
    "loss = tf.reduce_mean(tf.nn.softmax_cross_entropy_with_logits(logits=predict, labels=y_data))\n",
    "with tf.control_dependencies(tf.get_collection(tf.GraphKeys.UPDATE_OPS)):#批归一化层\n",
    "    train_step = tf.train.AdamOptimizer(1e-3).minimize(loss)\n",
    "acc = tf.reduce_mean(tf.cast(tf.equal(tf.argmax(predict, 1), tf.argmax(y_data, 1)), tf.float32))\n",
    "saver = tf.train.Saver()\n",
    "with tf.Session() as sess:\n",
    "    sess.run(tf.global_variables_initializer())\n",
    "    best_validation_loss = 1000000.0\n",
    "    current_epoch = 0\n",
    "    \n",
    "    epoch = EPOCHS\n",
    "    batch_size = BATCH_SIZE\n",
    "    train_size = len(x_train)\n",
    "    train_index = list(range(train_size))\n",
    "    for n in range(epoch):\n",
    "        random.shuffle(train_index)  # 每个epoch都shuffle一下效果更好\n",
    "        x_train_, y_train_ = x_train[train_index], y_train[train_index]\n",
    "        #添加交叉验证\n",
    "        #x_train, x_val, y_train, y_val = train_test_split(train_img, train_y, test_size=0.1, random_state=42, shuffle=True)\n",
    "        for i in range(0, train_size, batch_size):\n",
    "            x_batch = x_train_[i : i + batch_size]\n",
    "            y_batch = y_train_[i : i + batch_size]\n",
    "            _, loss_step = sess.run([train_step, loss], \\\n",
    "                             feed_dict={x_data:x_batch, y_data:y_batch})\n",
    "            #数据扩充\n",
    "            x_batch_aug = batch_augment(x_batch)\n",
    "            _, loss_aug = sess.run([train_step, loss], \\\n",
    "                                    feed_dict={x_data:x_batch_aug, y_data:y_batch})\n",
    "        if n % 5 == 0:\n",
    "            validation_loss, accuracy = sess.run([loss, acc], feed_dict={x_data:x_val, y_data:y_val})\n",
    "            #validation_loss = loss.eval(feed_dict={x_data:x_val, y_data:y_val, is_training:False})\n",
    "            #accuracy = acc.eval(feed_dict={x_data:x_val, y_data:y_val, is_training:False})\n",
    "            print(\"epoch %d train loss is %f validataion loss is %f accuracy is %f\" % (n, loss_step, validation_loss, accuracy))\n",
    "        if validation_loss < best_validation_loss:\n",
    "            print('----  epoch %d current best_validation_loss is %f' % (n, validation_loss))\n",
    "            best_validation_loss = validation_loss\n",
    "            current_epoch = n\n",
    "            saver.save(sess, ckpt_path)\n",
    "        elif (n - current_epoch) >= EARLY_STOP_PATIENCE:\n",
    "            print('early stoping')\n",
    "            break  "
   ]
  },
  {
   "cell_type": "code",
   "execution_count": 25,
   "metadata": {},
   "outputs": [],
   "source": [
    "### 计算混淆矩阵  ###\n",
    "def testModel(ckpt_path):\n",
    "    tf.reset_default_graph()#mo\n",
    "    x_data = tf.placeholder(tf.float32, [None, 32, 32, 3])\n",
    "    y_data = tf.placeholder(tf.float32, [None, 10])\n",
    "    out = LeNet_5(x_data, 10)\n",
    "    accuracy = tf.reduce_mean(tf.cast(tf.equal(tf.argmax(out, 1), tf.argmax(y_data, 1)), tf.float32))\n",
    "    saver = tf.train.Saver() \n",
    "    with tf.Session() as sess:\n",
    "        saver.restore(sess, ckpt_path)\n",
    "        #sess.run(out, feed_dict={x_data:x_val, y_data:y_val, is_training:False})\n",
    "        y_hat = out.eval({x_data: x_val})\n",
    "        y_pred = np.argmax(y_hat, axis=1)\n",
    "        y_true = np.argmax(y_val, axis=1)\n",
    "        cm = confusion_matrix(y_true, y_pred)\n",
    "        '''\n",
    "        for i in range(cm.shape[0]):# 混淆矩阵\n",
    "            for j in range(cm.shape[1]):\n",
    "                print(cm[i][j], end=' ')\n",
    "            print('\\n')\n",
    "        '''\n",
    "        print(cm)\n",
    "        acc = accuracy.eval(feed_dict={x_data:x_val, y_data:y_val})\n",
    "        print(acc)"
   ]
  },
  {
   "cell_type": "code",
   "execution_count": 26,
   "metadata": {},
   "outputs": [
    {
     "name": "stdout",
     "output_type": "stream",
     "text": [
      "INFO:tensorflow:Restoring parameters from ./model/lenet/mode.ckpt\n",
      "[[64  4  4  4  5  0  0  0  6  5]\n",
      " [ 8 76  0  0  1  0  2  0  4 10]\n",
      " [ 5  1 45  7 19  6  3  6  3  2]\n",
      " [ 7  2  6 42  6 20  6 10  3  2]\n",
      " [ 1  2  4  4 64  3  4  8  0  2]\n",
      " [ 2  0  6 19  7 76  1 10  0  0]\n",
      " [ 3  2  4  7 14  4 50  1  1  3]\n",
      " [ 3  1  3  7 12 11  1 61  1  1]\n",
      " [12  1  2  3  2  0  0  0 77  3]\n",
      " [ 2 13  0  5  0  1  0  3  3 76]]\n",
      "0.631\n"
     ]
    }
   ],
   "source": [
    "testModel(ckpt_path)"
   ]
  },
  {
   "cell_type": "code",
   "execution_count": 27,
   "metadata": {},
   "outputs": [],
   "source": [
    "#测试数据读取\n",
    "def test_data_preprocessing(data_path, resize=True, img_rows=32, img_cols=32):\n",
    "    if (os.path.exists(data_path + '/' + 'test_' + str(img_rows) +  '_' + str(img_cols) + '.npy')):\n",
    "        print('data have already processed')\n",
    "    else:\n",
    "        ### Image preprocessing ###\n",
    "        if resize == True:\n",
    "            if not os.path.exists(data_path + \"/testResized\"):\n",
    "                os.makedirs(data_path + \"/'dtestResized\")\n",
    "        for set_type in ['test']:\n",
    "            files = natsorted(glob.glob(data_path + '/' + set_type + '/*'))\n",
    "            data = np.zeros((len(files), img_rows, img_cols, 3))\n",
    "            for i, file_path in enumerate(files):\n",
    "                '''\n",
    "                img = imread(file_path, as_grey=True) #读入的图为[0, 1]图\n",
    "                img_resized = resize(img, (img_rows, img_cols))\n",
    "                data[i] = img_resized\n",
    "                #Save image\n",
    "                new_name = \"/\".join(file_path.split(\"/\")[:-1] ) + \"Resized/\" + file_path.split(\"/\")[-1]\n",
    "                imsave(new_name, img_resized)\n",
    "                '''\n",
    "                #利用opencv读取图片\n",
    "                img = cv2.imread(file_path) #读入彩色图\n",
    "                if resize == True:\n",
    "                    img_resized = cv2.resize(img, (img_rows, img_cols))#读入的[0, 255]的图\n",
    "                    data[i] = img_resized\n",
    "                    #Save image\n",
    "                    new_name = \"/\".join(file_path.split(\"/\")[:-1] ) + \"Resized/\" + file_path.split(\"/\")[-1]\n",
    "                    cv2.imwrite(new_name, img_resized) \n",
    "                else:\n",
    "                    data[i] = img\n",
    "            #Add channel/filter dimension [222, 32, 32] => [222, 1, 32, 32]\n",
    "            #train_img = np.stack(train_img)[..., None]\n",
    "            #data = data[:, :, :, np.newaxis]\n",
    "            data = data.astype('float32')\n",
    "            data /= 255\n",
    "            np.save(data_path + '/' + set_type + '_' + str(img_rows) +  '_' + str(img_cols) + '.npy', data)\n",
    "    test_all = np.load(data_path + '/' + 'test_' + str(img_rows) +  '_' + str(img_cols) + '.npy')\n",
    "    print('Finish')\n",
    "    return test_all"
   ]
  },
  {
   "cell_type": "code",
   "execution_count": 29,
   "metadata": {},
   "outputs": [
    {
     "name": "stdout",
     "output_type": "stream",
     "text": [
      "data have already processed\n",
      "Finish\n",
      "(300000, 32, 32, 3)\n"
     ]
    }
   ],
   "source": [
    "test_all = test_data_preprocessing(data_path, resize=False)\n",
    "print(test_all.shape)"
   ]
  },
  {
   "cell_type": "code",
   "execution_count": 83,
   "metadata": {},
   "outputs": [],
   "source": [
    "### Submit ###\n",
    "def submit(model_save_path, output_file):\n",
    "    tf.reset_default_graph()\n",
    "    x_test_data = tf.placeholder(tf.float32, [None, 32, 32, 3])\n",
    "    logits = LeNet_5(x_test_data, 10)\n",
    "    \n",
    "    saver = tf.train.Saver()\n",
    "    \n",
    "    \n",
    "    with tf.Session() as sess:\n",
    "        saver.restore(sess, model_save_path)\n",
    "        \n",
    "        test_size = len(test_all)\n",
    "        print(test_size)\n",
    "        batch_size = 200\n",
    "        f = open(output_file, 'w')\n",
    "        f.write('id,label\\n')\n",
    "        for i in range(0, test_size, batch_size):\n",
    "            x_test_batch = test_all[i : i + batch_size]\n",
    "            y_hat = logits.eval({x_test_data: x_test_batch})\n",
    "            y_pred_batch = np.argmax(y_hat, axis=1)\n",
    "            #vInt2label = np.vectorize(int2label)\n",
    "            #print(len(x_test_batch))\n",
    "            for i in range(len(y_pred_batch)):\n",
    "                #print(i)\n",
    "                f.write(\"\".join([str(i+1), ',', int2lable[y_pred_batch[i]], '\\n']))\n",
    "        f.close()\n",
    "    print('Finish!')"
   ]
  },
  {
   "cell_type": "code",
   "execution_count": 84,
   "metadata": {},
   "outputs": [
    {
     "name": "stdout",
     "output_type": "stream",
     "text": [
      "INFO:tensorflow:Restoring parameters from ./model/lenet/mode.ckpt\n",
      "300000\n",
      "Finish!\n"
     ]
    }
   ],
   "source": [
    "output_file = \"submission.csv\"\n",
    "submit(ckpt_path, output_file)"
   ]
  },
  {
   "cell_type": "code",
   "execution_count": null,
   "metadata": {},
   "outputs": [],
   "source": []
  }
 ],
 "metadata": {
  "kernelspec": {
   "display_name": "Python 3",
   "language": "python",
   "name": "python3"
  },
  "language_info": {
   "codemirror_mode": {
    "name": "ipython",
    "version": 3
   },
   "file_extension": ".py",
   "mimetype": "text/x-python",
   "name": "python",
   "nbconvert_exporter": "python",
   "pygments_lexer": "ipython3",
   "version": "3.6.5"
  }
 },
 "nbformat": 4,
 "nbformat_minor": 2
}
