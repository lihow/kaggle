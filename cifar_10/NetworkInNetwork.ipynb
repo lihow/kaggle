{
 "cells": [
  {
   "cell_type": "code",
   "execution_count": 1,
   "metadata": {},
   "outputs": [
    {
     "name": "stderr",
     "output_type": "stream",
     "text": [
      "/home/lhw/anaconda3/lib/python3.6/importlib/_bootstrap.py:219: RuntimeWarning: compiletime version 3.5 of module 'tensorflow.python.framework.fast_tensor_util' does not match runtime version 3.6\n",
      "  return f(*args, **kwds)\n",
      "/home/lhw/anaconda3/lib/python3.6/site-packages/h5py/__init__.py:36: FutureWarning: Conversion of the second argument of issubdtype from `float` to `np.floating` is deprecated. In future, it will be treated as `np.float64 == np.dtype(float).type`.\n",
      "  from ._conv import register_converters as _register_converters\n"
     ]
    }
   ],
   "source": [
    "import os\n",
    "import cv2\n",
    "import glob\n",
    "import random\n",
    "import numpy as np\n",
    "import imgaug as ia\n",
    "import pandas as pd\n",
    "import tensorflow as tf\n",
    "from natsort import natsorted\n",
    "import matplotlib.pyplot as plt\n",
    "from imgaug import augmenters as iaa\n",
    "from imgaug import parameters as iap\n",
    "from skimage.transform import resize\n",
    "from skimage.io import imread, imsave\n",
    "from sklearn.metrics import confusion_matrix\n",
    "from skimage import transform, filters, exposure\n",
    "\n",
    "os.environ['CUDA_VISIBLE_DEVICES']='1'\n",
    "%matplotlib inline"
   ]
  },
  {
   "cell_type": "code",
   "execution_count": 2,
   "metadata": {},
   "outputs": [],
   "source": [
    "label2int = {'airplane':0, 'automobile':1, 'bird':2, 'cat':3, 'deer':4, 'dog':5, 'frog':6, 'horse':7, 'ship':8, 'truck':9}\n",
    "int2lable = {0:'airplane', 1:'automobile', 2:'bird', 3:'cat', 4:'deer', 5:'dog', 6:'frog', 7:'horse', 8:'ship', 9:'truck'}"
   ]
  },
  {
   "cell_type": "code",
   "execution_count": 3,
   "metadata": {},
   "outputs": [],
   "source": [
    "#图片数据持久化，保存到本地，供下次直接调用 由于测试集比较大，本次只抽取训练集\n",
    "def data_preprocessing(data_path, resize=True, img_rows=32, img_cols=32):\n",
    "    if (os.path.exists(data_path + '/' + 'train_' + str(img_rows) +  '_' + str(img_cols) + '.npy') \n",
    "        and os.path.exists(data_path + '/' + 'test_' + str(img_rows) +  '_' + str(img_cols) + '.npy') \n",
    "        and os.path.exists(data_path + '/' + 'labels.npy')):\n",
    "        print('data have already processed')\n",
    "    else:\n",
    "        ### Image preprocessing ###\n",
    "        if resize == True:\n",
    "            if not os.path.exists(data_path + \"/trainResized\"):\n",
    "                os.makedirs(data_path + \"/trainResized\")\n",
    "            if not os.path.exists(data_path + \"/testResized\"):\n",
    "                os.makedirs(data_path + \"/testResized\")\n",
    "        for set_type in ['train', 'test']:\n",
    "            files = natsorted(glob.glob(data_path + '/' + set_type + '/*'))\n",
    "            data = np.zeros((len(files), img_rows, img_cols, 3))\n",
    "            for i, file_path in enumerate(files):\n",
    "                '''\n",
    "                img = imread(file_path, as_grey=True) #读入的图为[0, 1]图\n",
    "                img_resized = resize(img, (img_rows, img_cols))\n",
    "                data[i] = img_resized\n",
    "                #Save image\n",
    "                new_name = \"/\".join(file_path.split(\"/\")[:-1] ) + \"Resized/\" + file_path.split(\"/\")[-1]\n",
    "                imsave(new_name, img_resized)\n",
    "                '''\n",
    "                #利用opencv读取图片\n",
    "                img = cv2.imread(file_path) #读入彩色图\n",
    "                if resize == True:\n",
    "                    img_resized = cv2.resize(img, (img_rows, img_cols))#读入的[0, 255]的图\n",
    "                    data[i] = img_resized\n",
    "                    #Save image\n",
    "                    new_name = \"/\".join(file_path.split(\"/\")[:-1] ) + \"Resized/\" + file_path.split(\"/\")[-1]\n",
    "                    cv2.imwrite(new_name, img_resized) \n",
    "                else:\n",
    "                    data[i] = img\n",
    "            #Add channel/filter dimension [222, 32, 32] => [222, 1, 32, 32]\n",
    "            #train_img = np.stack(train_img)[..., None]\n",
    "            #data = data[:, :, :, np.newaxis]\n",
    "            data = data.astype('float32')\n",
    "            data /= 255\n",
    "            np.save(data_path + '/' + set_type + '_' + str(img_rows) +  '_' + str(img_cols) + '.npy', data)\n",
    "        ### Labels preprocessing ###\n",
    "        y_train = pd.read_csv(data_path + '/trainLabels.csv').values[:, 1]\n",
    "        #Convert one-hot vectors\n",
    "        Y_train = np.zeros((y_train.shape[0], len(np.unique(y_train))))\n",
    "        for i in range(y_train.shape[0]):\n",
    "            Y_train[i][label2int[y_train[i]]] = 1\n",
    "        np.save(data_path + '/' + 'labels.npy', Y_train)\n",
    "    X_train_all = np.load(data_path + '/' + 'train_' + str(img_rows) +  '_' + str(img_cols) + '.npy')\n",
    "    Y_train_all = np.load(data_path + '/' + 'labels.npy')\n",
    "    test_all = np.load(data_path + '/' + 'test_' + str(img_rows) +  '_' + str(img_cols) + '.npy')\n",
    "    print('Finish')\n",
    "    return X_train_all, Y_train_all, test_all"
   ]
  },
  {
   "cell_type": "code",
   "execution_count": 4,
   "metadata": {},
   "outputs": [
    {
     "name": "stdout",
     "output_type": "stream",
     "text": [
      "data have already processed\n",
      "Finish\n"
     ]
    }
   ],
   "source": [
    "data_path = 'data'\n",
    "X_train_all, Y_train_all, test_all = data_preprocessing(data_path, resize=False)"
   ]
  },
  {
   "cell_type": "code",
   "execution_count": 5,
   "metadata": {},
   "outputs": [
    {
     "name": "stdout",
     "output_type": "stream",
     "text": [
      "(50000, 32, 32, 3) (50000, 10)\n",
      "(32, 32, 3)\n",
      "bird\n",
      "float32\n"
     ]
    },
    {
     "data": {
      "image/png": "[encoded data removed]",
      "text/plain": [
       "<Figure size 432x288 with 1 Axes>"
      ]
     },
     "metadata": {},
     "output_type": "display_data"
    }
   ],
   "source": [
    "print(X_train_all.shape, Y_train_all.shape)\n",
    "sample_id = 6\n",
    "sample_x = X_train_all[sample_id]\n",
    "print(X_train_all[sample_id].shape)\n",
    "print(int2lable[np.argmax(Y_train_all[sample_id], axis=0)])\n",
    "plt.title('train sample', size=16)\n",
    "plt.imshow(sample_x[..., 0])\n",
    "print(X_train_all.dtype)"
   ]
  },
  {
   "cell_type": "code",
   "execution_count": 6,
   "metadata": {},
   "outputs": [
    {
     "name": "stdout",
     "output_type": "stream",
     "text": [
      "(49000, 32, 32, 3) (1000, 32, 32, 3)\n",
      "(10,)\n",
      "[[0.8039216  0.7764706  0.7764706  ... 0.57254905 0.6156863  0.63529414]\n",
      " [0.827451   0.8039216  0.79607844 ... 0.5882353  0.5882353  0.6117647 ]\n",
      " [0.84705883 0.81960785 0.7921569  ... 0.5882353  0.5686275  0.58431375]\n",
      " ...\n",
      " [0.65882355 0.654902   0.67058825 ... 0.28235295 0.2901961  0.31764707]\n",
      " [0.5176471  0.5254902  0.49019608 ... 0.27058825 0.29411766 0.3254902 ]\n",
      " [0.46666667 0.4745098  0.4509804  ... 0.29803923 0.29803923 0.32941177]]\n"
     ]
    }
   ],
   "source": [
    "### 划分验证集 ###\n",
    "#打乱顺序\n",
    "num_example=X_train_all.shape[0]\n",
    "arr=np.arange(num_example)\n",
    "np.random.shuffle(arr)\n",
    "X_train_all=X_train_all[arr]\n",
    "Y_train_all=Y_train_all[arr]\n",
    "\n",
    "VALIDATION_SIZE = 1000    #验证集大小\n",
    "x_val, y_val = X_train_all[:VALIDATION_SIZE], Y_train_all[:VALIDATION_SIZE]\n",
    "x_train, y_train = X_train_all[VALIDATION_SIZE:], Y_train_all[VALIDATION_SIZE:]\n",
    "print(x_train.shape, x_val.shape)\n",
    "print(y_val[0].shape)\n",
    "print(x_train[5][..., 0])"
   ]
  },
  {
   "cell_type": "code",
   "execution_count": 7,
   "metadata": {},
   "outputs": [],
   "source": [
    "def batch_augment(data):\n",
    "    seq = iaa.Sequential([\n",
    "        iaa.Crop(percent=0.01), # # 从每侧裁剪图像0到16px（随机选择）\n",
    "        iaa.Fliplr(0.5), # 水平翻转图像 括号内为Probability of each image to get flipped.\n",
    "        iaa.Flipud(0.5), #上下翻转\n",
    "        #iaa.GaussianBlur(sigma=(0, 3.0)),  # 使用0到3.0的sigma模糊图像\n",
    "        iaa.Affine(scale=(0.7, 1.3), translate_percent=0.01, rotate=iap.Normal(-20, 20)),#旋转\n",
    "        iaa.Multiply(iap.Positive(iap.Normal(0.0, 0.1)) + 1.0),#明暗变化\n",
    "        #iaa.AddElementwise(iap.Discretize((iap.Beta(0.5, 0.5) * 2 - 1.0) * 64))\n",
    "        #iaa.AdditiveGaussianNoise(scale=(0,  0.05*255)),\n",
    "        #iaa.Sharpen(alpha=0.5),\n",
    "        #iaa.Scale((0.5, 1.5))\n",
    "    ],random_order=True)#每个batch中的Augmenters顺序不一样\n",
    "    x_batch = seq.augment_images(data)\n",
    "    return x_batch"
   ]
  },
  {
   "cell_type": "code",
   "execution_count": 9,
   "metadata": {},
   "outputs": [
    {
     "name": "stdout",
     "output_type": "stream",
     "text": [
      "truck\n"
     ]
    },
    {
     "data": {
      "image/png": "[encoded data removed]",
      "text/plain": [
       "<Figure size 432x288 with 1 Axes>"
      ]
     },
     "metadata": {},
     "output_type": "display_data"
    },
    {
     "name": "stderr",
     "output_type": "stream",
     "text": [
      "Clipping input data to the valid range for imshow with RGB data ([0..1] for floats or [0..255] for integers).\n",
      "Clipping input data to the valid range for imshow with RGB data ([0..1] for floats or [0..255] for integers).\n"
     ]
    },
    {
     "data": {
      "image/png": "[encoded data removed]",
      "text/plain": [
       "<Figure size 432x288 with 10 Axes>"
      ]
     },
     "metadata": {},
     "output_type": "display_data"
    }
   ],
   "source": [
    "#展示数据扩增后的效果\n",
    "imglist = []\n",
    "#img = imread('data/train/3006.Bmp', as_grey=True)\n",
    "sample_id = 89\n",
    "sample_x = x_train[sample_id]\n",
    "#img = cv2.imread('data/train/2212.Bmp', 0)\n",
    "print(int2lable[np.argmax(y_train[sample_id], axis=0)])\n",
    "plt.imshow(sample_x)\n",
    "plt.show()\n",
    "imglist.append(sample_x)\n",
    "for i in range(10):\n",
    "    images_aug = batch_augment(imglist)\n",
    "    plt.subplot(1, 10, i+1)\n",
    "    plt.imshow(images_aug[0])\n",
    "plt.show()"
   ]
  },
  {
   "cell_type": "code",
   "execution_count": 12,
   "metadata": {},
   "outputs": [],
   "source": [
    "#定义模型 lenet\n",
    "def NIN(x, classnum, is_training):\n",
    "    conv1 = tf.layers.conv2d(x, 192, 5, strides=1, padding='SAME')\n",
    "    relu1 = tf.nn.relu(conv1)\n",
    "    conv2 = tf.layers.conv2d(relu1, 160, 1, strides=1, padding='SAME')\n",
    "    relu2 = tf.nn.relu(conv2)\n",
    "    conv3 = tf.layers.conv2d(relu2, 96, 1, strides=1, padding='SAME')\n",
    "    relu3 = tf.nn.relu(conv3)\n",
    "    pool4 = tf.layers.max_pooling2d(relu3, pool_size=[3, 3], strides=2, padding='SAME')\n",
    "        \n",
    "    if is_training == True:\n",
    "        pool4 = tf.layers.dropout(pool4, 0.5) \n",
    "    \n",
    "    conv5 = tf.layers.conv2d(pool4, 192, 5, strides=1, padding='SAME')\n",
    "    relu5 = tf.nn.relu(conv5)\n",
    "    conv6 = tf.layers.conv2d(relu5, 192, 1, strides=1, padding='SAME')\n",
    "    relu6 = tf.nn.relu(conv6)\n",
    "    conv7 = tf.layers.conv2d(relu6, 192, 1, strides=1, padding='SAME')\n",
    "    relu7 = tf.nn.relu(conv7)\n",
    "    pool8 = tf.layers.max_pooling2d(relu7, pool_size=[3, 3], strides=2, padding='SAME')\n",
    "\n",
    "    if is_training == True:\n",
    "        pool8 = tf.layers.dropout(pool8, 0.5) \n",
    "\n",
    "    conv9 = tf.layers.conv2d(pool8, 192, 3, strides=1, padding='SAME')\n",
    "    relu9 = tf.nn.relu(conv9)\n",
    "    conv10 = tf.layers.conv2d(relu9, 192, 1, strides=1, padding='SAME')\n",
    "    relu10 = tf.nn.relu(conv10)\n",
    "    conv11 = tf.layers.conv2d(relu10, classnum, 1, strides=1, padding='SAME')\n",
    "    relu11 = tf.nn.relu(conv11)\n",
    "    \n",
    "    # GlobalAveragePooling2D [N, H, W, 10] ==> [N, 10]   NHWC->[1, 2] NHWC->[2, 3]\n",
    "    out = tf.reduce_mean(relu11, [1, 2])\n",
    "    return out"
   ]
  },
  {
   "cell_type": "code",
   "execution_count": 10,
   "metadata": {},
   "outputs": [],
   "source": [
    "#定义模型 lenet\n",
    "def LeNet_5(x, classnum):\n",
    "    with tf.name_scope('layer1-conv'):\n",
    "        conv1 = tf.layers.conv2d(x, 6, 5, strides=1, padding='VALID')\n",
    "        relu1 = tf.nn.relu(conv1)\n",
    "    with tf.name_scope('layer2-pool'):\n",
    "        pool2 = tf.layers.max_pooling2d(relu1, pool_size=[2, 2], strides=2, padding='SAME')\n",
    "    with tf.name_scope('layer3-conv'):\n",
    "        conv3 = tf.layers.conv2d(pool2, 16, 5, strides=1, padding='VALID')\n",
    "        relu3 = tf.nn.relu(conv3)\n",
    "    with tf.name_scope('layer4-pool'):\n",
    "        pool4 = tf.layers.max_pooling2d(relu3, pool_size=[2, 2], strides=2, padding='SAME')\n",
    "    with tf.name_scope('layer5-FC'):\n",
    "        flatten = tf.reshape(pool4, [-1, 5*5*16])\n",
    "        fc5 = tf.layers.dense(flatten, 120)\n",
    "        relu5 = tf.nn.relu(fc5)\n",
    "    with tf.name_scope('layer6-fc'):\n",
    "        fc6 = tf.layers.dense(relu5, 84)\n",
    "        relu6 = tf.nn.relu(fc6)\n",
    "    with tf.name_scope('layer7-fc'):\n",
    "        output = tf.layers.dense(relu6, classnum)\n",
    "    return output"
   ]
  },
  {
   "cell_type": "code",
   "execution_count": 15,
   "metadata": {},
   "outputs": [],
   "source": [
    "def nin_cell(input):\n",
    "    conv1_filter = tf.get_variable('conv1_filter', shape=[5, 5, 3, 192])\n",
    "    conv1 = tf.nn.relu(tf.nn.conv2d(input, conv1_filter, strides=[1, 1, 1, 1], padding='SAME'))\n",
    "\n",
    "    mlpconv1_filter = tf.get_variable('mlpconv1_filter', shape=[1, 1, 192, 160])\n",
    "    mlpconv1 = tf.nn.relu(tf.nn.conv2d(conv1, mlpconv1_filter, strides=[1, 1, 1, 1], padding='SAME'))\n",
    "\n",
    "    mlpconv2_filter = tf.get_variable('mlpconv2_filter', shape=[1, 1, 160, 96])\n",
    "    mlpconv2 = tf.nn.relu(tf.nn.conv2d(mlpconv1, mlpconv2_filter, strides=[1, 1, 1, 1], padding='SAME'))\n",
    "\n",
    "    max_pool1 = tf.nn.max_pool(mlpconv2, ksize = [1,3,3,1], strides=[1,2,2,1], padding='SAME')\n",
    "\n",
    "    conv2_filter = tf.get_variable('conv2_filter', shape=[5, 5, 96, 192])\n",
    "    conv2 = tf.nn.relu(tf.nn.conv2d(max_pool1, conv2_filter, strides=[1, 1, 1, 1], padding='SAME'))\n",
    "\n",
    "    mlpconv3_filter = tf.get_variable('mlpconv3_filter', shape=[1, 1, 192, 192])\n",
    "    mlpconv3 = tf.nn.relu(tf.nn.conv2d(conv2, mlpconv3_filter, strides=[1, 1, 1, 1], padding='SAME'))\n",
    "\n",
    "    mlpconv4_filter = tf.get_variable('mlpconv4_filter', shape=[1, 1, 192, 192])\n",
    "    mlpconv4 = tf.nn.relu(tf.nn.conv2d(mlpconv3, mlpconv4_filter, strides=[1, 1, 1, 1], padding='SAME'))\n",
    "\n",
    "    max_pool2 = tf.nn.max_pool(mlpconv4, ksize = [1,3,3,1], strides=[1,2,2,1], padding='SAME')\n",
    "\n",
    "    conv3_filter = tf.get_variable('conv3_filter', shape=[3, 3, 192, 192])\n",
    "    conv3 = tf.nn.relu(tf.nn.conv2d(max_pool2, conv3_filter, strides=[1, 1, 1, 1], padding='SAME'))\n",
    "\n",
    "    mlpconv4_filter = tf.get_variable('mlpconv5_filter', shape=[1, 1, 192, 192])\n",
    "    mlpconv4 = tf.nn.relu(tf.nn.conv2d(conv3, mlpconv4_filter, strides=[1, 1, 1, 1], padding='SAME'))\n",
    "\n",
    "    mlpconv5_filter = tf.get_variable('mlpconv6_filter', shape=[1, 1, 192, 10])\n",
    "    mlpconv5 = tf.nn.relu(tf.nn.conv2d(mlpconv4, mlpconv5_filter, strides=[1, 1, 1, 1], padding='SAME'))\n",
    "\n",
    "    global_avg_pool = tf.nn.avg_pool(mlpconv5, ksize=[1,8,8,1], strides=[1,8,8,1], padding='SAME')\n",
    "    return global_avg_pool"
   ]
  },
  {
   "cell_type": "code",
   "execution_count": null,
   "metadata": {},
   "outputs": [
    {
     "name": "stdout",
     "output_type": "stream",
     "text": [
      "epoch 0 train loss is 1.607774 validataion loss is 1.565234 accuracy is 0.418000\n",
      "----  epoch 0 current best_validation_loss is 1.565234\n"
     ]
    }
   ],
   "source": [
    "### 训练 ###\n",
    "#训练参数\n",
    "BATCH_SIZE = 128\n",
    "EPOCHS = 500             #迭代次数\n",
    "EARLY_STOP_PATIENCE = 100 #控制early stopping的参数\n",
    "\n",
    "tf.reset_default_graph()\n",
    "x_data = tf.placeholder(tf.float32, [None, 32, 32, 3])\n",
    "y_data = tf.placeholder(tf.float32, [None, 10])\n",
    "is_training = tf.placeholder(tf.bool)\n",
    "ckpt_path = './model/nin/mode.ckpt'\n",
    "\n",
    "predict = NIN(x_data, 10, is_training)\n",
    "out = nin_cell(x_data)\n",
    "\n",
    "loss = tf.reduce_mean(tf.nn.softmax_cross_entropy_with_logits(logits=predict, labels=y_data))\n",
    "with tf.control_dependencies(tf.get_collection(tf.GraphKeys.UPDATE_OPS)):#批归一化层\n",
    "    train_step = tf.train.AdamOptimizer(1e-3).minimize(loss)\n",
    "acc = tf.reduce_mean(tf.cast(tf.equal(tf.argmax(predict, 1), tf.argmax(y_data, 1)), tf.float32))\n",
    "saver = tf.train.Saver()\n",
    "with tf.Session() as sess:\n",
    "    sess.run(tf.global_variables_initializer())\n",
    "    best_validation_loss = 1000000.0\n",
    "    current_epoch = 0\n",
    "    \n",
    "    epoch = EPOCHS\n",
    "    batch_size = BATCH_SIZE\n",
    "    train_size = len(x_train)\n",
    "    train_index = list(range(train_size))\n",
    "    for n in range(epoch):\n",
    "        random.shuffle(train_index)  # 每个epoch都shuffle一下效果更好\n",
    "        x_train_, y_train_ = x_train[train_index], y_train[train_index]\n",
    "        #添加交叉验证\n",
    "        #x_train, x_val, y_train, y_val = train_test_split(train_img, train_y, test_size=0.1, random_state=42, shuffle=True)\n",
    "        for i in range(0, train_size, batch_size):\n",
    "            x_batch = x_train_[i : i + batch_size]\n",
    "            y_batch = y_train_[i : i + batch_size]\n",
    "            _, loss_step = sess.run([train_step, loss], \\\n",
    "                             feed_dict={x_data:x_batch, y_data:y_batch})#, is_training:True})\n",
    "            #数据扩充\n",
    "            #x_batch_aug = batch_augment(x_batch)\n",
    "            #_, loss_aug = sess.run([train_step, loss], \\\n",
    "            #                        feed_dict={x_data:x_batch_aug, y_data:y_batch})\n",
    "        if n % 5 == 0:\n",
    "            #print(predict.eval(feed_dict={x_data:x_val, y_data:y_val, is_training:False}))\n",
    "            validation_loss, accuracy = sess.run([loss, acc], feed_dict={x_data:x_val, y_data:y_val})#, is_training:False})\n",
    "            #validation_loss = loss.eval(feed_dict={x_data:x_val, y_data:y_val, is_training:False})\n",
    "            #accuracy = acc.eval(feed_dict={x_data:x_val, y_data:y_val, is_training:False})\n",
    "            print(\"epoch %d train loss is %f validataion loss is %f accuracy is %f\" % (n, loss_step, validation_loss, accuracy))\n",
    "        if validation_loss < best_validation_loss:\n",
    "            print('----  epoch %d current best_validation_loss is %f' % (n, validation_loss))\n",
    "            best_validation_loss = validation_loss\n",
    "            current_epoch = n\n",
    "            saver.save(sess, ckpt_path)\n",
    "        elif (n - current_epoch) >= EARLY_STOP_PATIENCE:\n",
    "            print('early stoping')\n",
    "            break  "
   ]
  },
  {
   "cell_type": "code",
   "execution_count": null,
   "metadata": {},
   "outputs": [],
   "source": []
  }
 ],
 "metadata": {
  "kernelspec": {
   "display_name": "Python 3",
   "language": "python",
   "name": "python3"
  },
  "language_info": {
   "codemirror_mode": {
    "name": "ipython",
    "version": 3
   },
   "file_extension": ".py",
   "mimetype": "text/x-python",
   "name": "python",
   "nbconvert_exporter": "python",
   "pygments_lexer": "ipython3",
   "version": "3.6.5"
  }
 },
 "nbformat": 4,
 "nbformat_minor": 2
}
