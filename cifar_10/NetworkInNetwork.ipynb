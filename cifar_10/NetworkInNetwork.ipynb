{
 "cells": [
  {
   "cell_type": "code",
   "execution_count": 1,
   "metadata": {},
   "outputs": [
    {
     "name": "stderr",
     "output_type": "stream",
     "text": [
      "/home/lhw/anaconda3/lib/python3.6/importlib/_bootstrap.py:219: RuntimeWarning: compiletime version 3.5 of module 'tensorflow.python.framework.fast_tensor_util' does not match runtime version 3.6\n",
      "  return f(*args, **kwds)\n",
      "/home/lhw/anaconda3/lib/python3.6/site-packages/h5py/__init__.py:36: FutureWarning: Conversion of the second argument of issubdtype from `float` to `np.floating` is deprecated. In future, it will be treated as `np.float64 == np.dtype(float).type`.\n",
      "  from ._conv import register_converters as _register_converters\n"
     ]
    }
   ],
   "source": [
    "import os\n",
    "import cv2\n",
    "import glob\n",
    "import random\n",
    "import numpy as np\n",
    "import imgaug as ia\n",
    "import pandas as pd\n",
    "import tensorflow as tf\n",
    "from natsort import natsorted\n",
    "import matplotlib.pyplot as plt\n",
    "from imgaug import augmenters as iaa\n",
    "from imgaug import parameters as iap\n",
    "from skimage.transform import resize\n",
    "from skimage.io import imread, imsave\n",
    "from sklearn.metrics import confusion_matrix\n",
    "from skimage import transform, filters, exposure\n",
    "\n",
    "os.environ['CUDA_VISIBLE_DEVICES']='1'\n",
    "%matplotlib inline"
   ]
  },
  {
   "cell_type": "code",
   "execution_count": 2,
   "metadata": {},
   "outputs": [],
   "source": [
    "label2int = {'airplane':0, 'automobile':1, 'bird':2, 'cat':3, 'deer':4, 'dog':5, 'frog':6, 'horse':7, 'ship':8, 'truck':9}\n",
    "int2lable = {0:'airplane', 1:'automobile', 2:'bird', 3:'cat', 4:'deer', 5:'dog', 6:'frog', 7:'horse', 8:'ship', 9:'truck'}"
   ]
  },
  {
   "cell_type": "code",
   "execution_count": 3,
   "metadata": {},
   "outputs": [],
   "source": [
    "#图片数据持久化，保存到本地，供下次直接调用 由于测试集比较大，本次只抽取训练集\n",
    "def data_preprocessing(data_path, resize=True, img_rows=32, img_cols=32):\n",
    "    if (os.path.exists(data_path + '/' + 'train_' + str(img_rows) +  '_' + str(img_cols) + '.npy') \n",
    "        and os.path.exists(data_path + '/' + 'test_' + str(img_rows) +  '_' + str(img_cols) + '.npy') \n",
    "        and os.path.exists(data_path + '/' + 'labels.npy')):\n",
    "        print('data have already processed')\n",
    "    else:\n",
    "        ### Image preprocessing ###\n",
    "        if resize == True:\n",
    "            if not os.path.exists(data_path + \"/trainResized\"):\n",
    "                os.makedirs(data_path + \"/trainResized\")\n",
    "            if not os.path.exists(data_path + \"/testResized\"):\n",
    "                os.makedirs(data_path + \"/testResized\")\n",
    "        for set_type in ['train', 'test']:\n",
    "            files = natsorted(glob.glob(data_path + '/' + set_type + '/*'))\n",
    "            data = np.zeros((len(files), img_rows, img_cols, 3))\n",
    "            for i, file_path in enumerate(files):\n",
    "                '''\n",
    "                img = imread(file_path, as_grey=True) #读入的图为[0, 1]图\n",
    "                img_resized = resize(img, (img_rows, img_cols))\n",
    "                data[i] = img_resized\n",
    "                #Save image\n",
    "                new_name = \"/\".join(file_path.split(\"/\")[:-1] ) + \"Resized/\" + file_path.split(\"/\")[-1]\n",
    "                imsave(new_name, img_resized)\n",
    "                '''\n",
    "                #利用opencv读取图片\n",
    "                img = cv2.imread(file_path) #读入彩色图\n",
    "                if resize == True:\n",
    "                    img_resized = cv2.resize(img, (img_rows, img_cols))#读入的[0, 255]的图\n",
    "                    data[i] = img_resized\n",
    "                    #Save image\n",
    "                    new_name = \"/\".join(file_path.split(\"/\")[:-1] ) + \"Resized/\" + file_path.split(\"/\")[-1]\n",
    "                    cv2.imwrite(new_name, img_resized) \n",
    "                else:\n",
    "                    data[i] = img\n",
    "            #Add channel/filter dimension [222, 32, 32] => [222, 1, 32, 32]\n",
    "            #train_img = np.stack(train_img)[..., None]\n",
    "            #data = data[:, :, :, np.newaxis]\n",
    "            data = data.astype('float32')\n",
    "            data /= 255\n",
    "            np.save(data_path + '/' + set_type + '_' + str(img_rows) +  '_' + str(img_cols) + '.npy', data)\n",
    "        ### Labels preprocessing ###\n",
    "        y_train = pd.read_csv(data_path + '/trainLabels.csv').values[:, 1]\n",
    "        #Convert one-hot vectors\n",
    "        Y_train = np.zeros((y_train.shape[0], len(np.unique(y_train))))\n",
    "        for i in range(y_train.shape[0]):\n",
    "            Y_train[i][label2int[y_train[i]]] = 1\n",
    "        np.save(data_path + '/' + 'labels.npy', Y_train)\n",
    "    X_train_all = np.load(data_path + '/' + 'train_' + str(img_rows) +  '_' + str(img_cols) + '.npy')\n",
    "    Y_train_all = np.load(data_path + '/' + 'labels.npy')\n",
    "    test_all = np.load(data_path + '/' + 'test_' + str(img_rows) +  '_' + str(img_cols) + '.npy')\n",
    "    print('Finish')\n",
    "    return X_train_all, Y_train_all, test_all"
   ]
  },
  {
   "cell_type": "code",
   "execution_count": 4,
   "metadata": {},
   "outputs": [
    {
     "name": "stdout",
     "output_type": "stream",
     "text": [
      "data have already processed\n",
      "Finish\n"
     ]
    }
   ],
   "source": [
    "data_path = 'data'\n",
    "X_train_all, Y_train_all, test_all = data_preprocessing(data_path, resize=False)"
   ]
  },
  {
   "cell_type": "code",
   "execution_count": 5,
   "metadata": {},
   "outputs": [
    {
     "name": "stdout",
     "output_type": "stream",
     "text": [
      "(50000, 32, 32, 3) (50000, 10)\n",
      "(32, 32, 3)\n",
      "bird\n",
      "float32\n"
     ]
    },
    {
     "data": {
      "image/png": "[encoded data removed]",
      "text/plain": [
       "<Figure size 432x288 with 1 Axes>"
      ]
     },
     "metadata": {},
     "output_type": "display_data"
    }
   ],
   "source": [
    "print(X_train_all.shape, Y_train_all.shape)\n",
    "sample_id = 6\n",
    "sample_x = X_train_all[sample_id]\n",
    "print(X_train_all[sample_id].shape)\n",
    "print(int2lable[np.argmax(Y_train_all[sample_id], axis=0)])\n",
    "plt.title('train sample', size=16)\n",
    "plt.imshow(sample_x[..., 0])\n",
    "print(X_train_all.dtype)"
   ]
  },
  {
   "cell_type": "code",
   "execution_count": 6,
   "metadata": {},
   "outputs": [
    {
     "name": "stdout",
     "output_type": "stream",
     "text": [
      "(49000, 32, 32, 3) (1000, 32, 32, 3)\n",
      "(10,)\n",
      "[[0.58431375 0.60784316 0.6        ... 0.6862745  0.69803923 0.68235296]\n",
      " [0.62352943 0.64705884 0.64705884 ... 0.7607843  0.75686276 0.7529412 ]\n",
      " [0.654902   0.6666667  0.6901961  ... 0.74509805 0.7490196  0.73333335]\n",
      " ...\n",
      " [0.4117647  0.41960785 0.41568628 ... 0.5137255  0.52156866 0.5137255 ]\n",
      " [0.37254903 0.3764706  0.40784314 ... 0.5019608  0.5411765  0.5294118 ]\n",
      " [0.3647059  0.36078432 0.3882353  ... 0.54901963 0.5372549  0.5019608 ]]\n"
     ]
    }
   ],
   "source": [
    "### 划分验证集 ###\n",
    "#打乱顺序\n",
    "num_example=X_train_all.shape[0]\n",
    "arr=np.arange(num_example)\n",
    "np.random.shuffle(arr)\n",
    "X_train_all=X_train_all[arr]\n",
    "Y_train_all=Y_train_all[arr]\n",
    "\n",
    "VALIDATION_SIZE = 1000    #验证集大小\n",
    "x_val, y_val = X_train_all[:VALIDATION_SIZE], Y_train_all[:VALIDATION_SIZE]\n",
    "x_train, y_train = X_train_all[VALIDATION_SIZE:], Y_train_all[VALIDATION_SIZE:]\n",
    "print(x_train.shape, x_val.shape)\n",
    "print(y_val[0].shape)\n",
    "print(x_train[5][..., 0])"
   ]
  },
  {
   "cell_type": "code",
   "execution_count": 7,
   "metadata": {},
   "outputs": [],
   "source": [
    "def batch_augment(data):\n",
    "    seq = iaa.Sequential([\n",
    "        iaa.Crop(percent=0.01), # # 从每侧裁剪图像0到16px（随机选择）\n",
    "        iaa.Fliplr(0.5), # 水平翻转图像 括号内为Probability of each image to get flipped.\n",
    "        iaa.Flipud(0.5), #上下翻转\n",
    "        #iaa.GaussianBlur(sigma=(0, 3.0)),  # 使用0到3.0的sigma模糊图像\n",
    "        iaa.Affine(scale=(0.7, 1.3), translate_percent=0.01, rotate=iap.Normal(-20, 20)),#旋转\n",
    "        iaa.Multiply(iap.Positive(iap.Normal(0.0, 0.1)) + 1.0),#明暗变化\n",
    "        #iaa.AddElementwise(iap.Discretize((iap.Beta(0.5, 0.5) * 2 - 1.0) * 64))\n",
    "        #iaa.AdditiveGaussianNoise(scale=(0,  0.05*255)),\n",
    "        #iaa.Sharpen(alpha=0.5),\n",
    "        #iaa.Scale((0.5, 1.5))\n",
    "    ],random_order=True)#每个batch中的Augmenters顺序不一样\n",
    "    x_batch = seq.augment_images(data)\n",
    "    return x_batch"
   ]
  },
  {
   "cell_type": "code",
   "execution_count": 8,
   "metadata": {},
   "outputs": [
    {
     "name": "stdout",
     "output_type": "stream",
     "text": [
      "horse\n"
     ]
    },
    {
     "data": {
      "image/png": "[encoded data removed]",
      "text/plain": [
       "<Figure size 432x288 with 1 Axes>"
      ]
     },
     "metadata": {},
     "output_type": "display_data"
    },
    {
     "name": "stderr",
     "output_type": "stream",
     "text": [
      "Clipping input data to the valid range for imshow with RGB data ([0..1] for floats or [0..255] for integers).\n",
      "Clipping input data to the valid range for imshow with RGB data ([0..1] for floats or [0..255] for integers).\n",
      "Clipping input data to the valid range for imshow with RGB data ([0..1] for floats or [0..255] for integers).\n",
      "Clipping input data to the valid range for imshow with RGB data ([0..1] for floats or [0..255] for integers).\n",
      "Clipping input data to the valid range for imshow with RGB data ([0..1] for floats or [0..255] for integers).\n",
      "Clipping input data to the valid range for imshow with RGB data ([0..1] for floats or [0..255] for integers).\n",
      "Clipping input data to the valid range for imshow with RGB data ([0..1] for floats or [0..255] for integers).\n"
     ]
    },
    {
     "data": {
      "image/png": "[encoded data removed]",
      "text/plain": [
       "<Figure size 432x288 with 10 Axes>"
      ]
     },
     "metadata": {},
     "output_type": "display_data"
    }
   ],
   "source": [
    "#展示数据扩增后的效果\n",
    "imglist = []\n",
    "#img = imread('data/train/3006.Bmp', as_grey=True)\n",
    "sample_id = 89\n",
    "sample_x = x_train[sample_id]\n",
    "#img = cv2.imread('data/train/2212.Bmp', 0)\n",
    "print(int2lable[np.argmax(y_train[sample_id], axis=0)])\n",
    "plt.imshow(sample_x)\n",
    "plt.show()\n",
    "imglist.append(sample_x)\n",
    "for i in range(10):\n",
    "    images_aug = batch_augment(imglist)\n",
    "    plt.subplot(1, 10, i+1)\n",
    "    plt.imshow(images_aug[0])\n",
    "plt.show()"
   ]
  },
  {
   "cell_type": "code",
   "execution_count": 9,
   "metadata": {},
   "outputs": [],
   "source": [
    "#定义模型 NIN\n",
    "def NIN(x, classnum, is_training):\n",
    "    conv1 = tf.layers.conv2d(x, 192, 5, strides=1, padding='SAME')\n",
    "    norm1 = tf.layers.batch_normalization(conv1, center=True, scale=True, training=is_training)\n",
    "    relu1 = tf.nn.relu(norm1)\n",
    "    conv2 = tf.layers.conv2d(relu1, 160, 1, strides=1, padding='SAME')\n",
    "    norm2 = tf.layers.batch_normalization(conv2, center=True, scale=True, training=is_training)\n",
    "    relu2 = tf.nn.relu(norm2)\n",
    "    conv3 = tf.layers.conv2d(relu2, 96, 1, strides=1, padding='SAME')\n",
    "    norm3 = tf.layers.batch_normalization(conv3, center=True, scale=True, training=is_training)\n",
    "    relu3 = tf.nn.relu(norm3)\n",
    "    pool4 = tf.layers.max_pooling2d(relu3, pool_size=[3, 3], strides=2, padding='SAME')\n",
    "        \n",
    "    if is_training == True:\n",
    "        pool4 = tf.layers.dropout(pool4, 0.5) \n",
    "    \n",
    "    conv5 = tf.layers.conv2d(pool4, 192, 5, strides=1, padding='SAME')\n",
    "    norm5 = tf.layers.batch_normalization(conv5, center=True, scale=True, training=is_training)\n",
    "    relu5 = tf.nn.relu(norm5)\n",
    "    conv6 = tf.layers.conv2d(relu5, 192, 1, strides=1, padding='SAME')\n",
    "    norm6 = tf.layers.batch_normalization(conv6, center=True, scale=True, training=is_training)\n",
    "    relu6 = tf.nn.relu(norm6)\n",
    "    conv7 = tf.layers.conv2d(relu6, 192, 1, strides=1, padding='SAME')\n",
    "    norm7 = tf.layers.batch_normalization(conv7, center=True, scale=True, training=is_training)\n",
    "    relu7 = tf.nn.relu(norm7)\n",
    "    pool8 = tf.layers.max_pooling2d(relu7, pool_size=[3, 3], strides=2, padding='SAME')\n",
    "\n",
    "    if is_training == True:\n",
    "        pool8 = tf.layers.dropout(pool8, 0.5) \n",
    "\n",
    "    conv9 = tf.layers.conv2d(pool8, 192, 3, strides=1, padding='SAME')\n",
    "    norm9 = tf.layers.batch_normalization(conv9, center=True, scale=True, training=is_training)\n",
    "    relu9 = tf.nn.relu(norm9)\n",
    "    conv10 = tf.layers.conv2d(relu9, 192, 1, strides=1, padding='SAME')\n",
    "    norm10 = tf.layers.batch_normalization(conv10, center=True, scale=True, training=is_training)\n",
    "    relu10 = tf.nn.relu(norm10)\n",
    "    conv11 = tf.layers.conv2d(relu10, classnum, 1, strides=1, padding='SAME')\n",
    "    norm11 = tf.layers.batch_normalization(conv11, center=True, scale=True, training=is_training)\n",
    "    relu11 = tf.nn.relu(norm11)\n",
    "    \n",
    "    # GlobalAveragePooling2D [N, H, W, 10] ==> [N, 10]   NHWC->[1, 2] NHWC->[2, 3]\n",
    "    out = tf.reduce_mean(relu11, [1, 2])\n",
    "    return out"
   ]
  },
  {
   "cell_type": "code",
   "execution_count": 10,
   "metadata": {},
   "outputs": [
    {
     "name": "stdout",
     "output_type": "stream",
     "text": [
      "epoch 0 train loss is 1.199555 validataion loss is 1.574829 accuracy is 0.452000\n",
      "----  epoch 0 current best_validation_loss is 1.574829\n",
      "epoch 5 train loss is 0.512869 validataion loss is 0.853501 accuracy is 0.719000\n",
      "----  epoch 5 current best_validation_loss is 0.853501\n",
      "epoch 10 train loss is 0.432136 validataion loss is 0.588484 accuracy is 0.798000\n",
      "----  epoch 10 current best_validation_loss is 0.588484\n",
      "epoch 15 train loss is 0.222830 validataion loss is 0.626036 accuracy is 0.783000\n",
      "epoch 20 train loss is 0.093406 validataion loss is 0.642566 accuracy is 0.782000\n",
      "epoch 25 train loss is 0.123940 validataion loss is 0.546882 accuracy is 0.822000\n",
      "----  epoch 25 current best_validation_loss is 0.546882\n",
      "epoch 30 train loss is 0.117946 validataion loss is 0.482816 accuracy is 0.850000\n",
      "----  epoch 30 current best_validation_loss is 0.482816\n",
      "epoch 35 train loss is 0.089784 validataion loss is 0.447487 accuracy is 0.853000\n",
      "----  epoch 35 current best_validation_loss is 0.447487\n",
      "epoch 40 train loss is 0.094637 validataion loss is 0.529101 accuracy is 0.841000\n",
      "epoch 45 train loss is 0.057407 validataion loss is 0.383047 accuracy is 0.872000\n",
      "----  epoch 45 current best_validation_loss is 0.383047\n",
      "epoch 50 train loss is 0.035378 validataion loss is 0.457995 accuracy is 0.858000\n",
      "epoch 55 train loss is 0.048036 validataion loss is 0.571560 accuracy is 0.834000\n",
      "epoch 60 train loss is 0.021105 validataion loss is 0.457289 accuracy is 0.852000\n",
      "epoch 65 train loss is 0.033376 validataion loss is 0.444291 accuracy is 0.858000\n",
      "epoch 70 train loss is 0.037129 validataion loss is 0.388478 accuracy is 0.870000\n",
      "epoch 75 train loss is 0.014104 validataion loss is 0.375030 accuracy is 0.874000\n",
      "----  epoch 75 current best_validation_loss is 0.375030\n",
      "epoch 80 train loss is 0.013660 validataion loss is 0.441164 accuracy is 0.860000\n",
      "epoch 85 train loss is 0.022479 validataion loss is 0.470730 accuracy is 0.848000\n",
      "epoch 90 train loss is 0.016723 validataion loss is 0.404543 accuracy is 0.873000\n",
      "epoch 95 train loss is 0.022014 validataion loss is 0.409149 accuracy is 0.886000\n",
      "epoch 100 train loss is 0.011557 validataion loss is 0.450464 accuracy is 0.856000\n",
      "epoch 105 train loss is 0.021311 validataion loss is 0.427384 accuracy is 0.866000\n",
      "epoch 110 train loss is 0.008380 validataion loss is 0.361227 accuracy is 0.885000\n",
      "----  epoch 110 current best_validation_loss is 0.361227\n",
      "epoch 115 train loss is 0.003673 validataion loss is 0.395831 accuracy is 0.878000\n",
      "epoch 120 train loss is 0.013984 validataion loss is 0.457305 accuracy is 0.875000\n",
      "epoch 125 train loss is 0.055603 validataion loss is 0.430344 accuracy is 0.870000\n",
      "epoch 130 train loss is 0.007405 validataion loss is 0.442822 accuracy is 0.864000\n",
      "epoch 135 train loss is 0.008216 validataion loss is 0.413421 accuracy is 0.872000\n",
      "epoch 140 train loss is 0.061279 validataion loss is 0.415393 accuracy is 0.871000\n",
      "epoch 145 train loss is 0.011211 validataion loss is 0.424893 accuracy is 0.872000\n",
      "epoch 150 train loss is 0.013327 validataion loss is 0.442334 accuracy is 0.872000\n",
      "epoch 155 train loss is 0.009586 validataion loss is 0.391751 accuracy is 0.881000\n",
      "epoch 160 train loss is 0.016268 validataion loss is 0.443973 accuracy is 0.868000\n",
      "epoch 165 train loss is 0.008546 validataion loss is 0.369297 accuracy is 0.884000\n",
      "epoch 170 train loss is 0.005257 validataion loss is 0.412373 accuracy is 0.865000\n",
      "epoch 175 train loss is 0.032848 validataion loss is 0.436649 accuracy is 0.874000\n",
      "epoch 180 train loss is 0.005747 validataion loss is 0.431850 accuracy is 0.877000\n",
      "epoch 185 train loss is 0.005805 validataion loss is 0.438038 accuracy is 0.864000\n",
      "epoch 190 train loss is 0.010387 validataion loss is 0.486427 accuracy is 0.864000\n",
      "epoch 195 train loss is 0.008922 validataion loss is 0.430929 accuracy is 0.876000\n",
      "epoch 200 train loss is 0.004089 validataion loss is 0.389826 accuracy is 0.888000\n",
      "epoch 205 train loss is 0.004495 validataion loss is 0.466394 accuracy is 0.868000\n",
      "epoch 210 train loss is 0.006991 validataion loss is 0.505411 accuracy is 0.849000\n",
      "early stoping\n"
     ]
    }
   ],
   "source": [
    "### 训练 ###\n",
    "#训练参数\n",
    "BATCH_SIZE = 128\n",
    "EPOCHS = 500             #迭代次数\n",
    "EARLY_STOP_PATIENCE = 100 #控制early stopping的参数\n",
    "\n",
    "tf.reset_default_graph()\n",
    "x_data = tf.placeholder(tf.float32, [None, 32, 32, 3])\n",
    "y_data = tf.placeholder(tf.float32, [None, 10])\n",
    "is_training = tf.placeholder(tf.bool)\n",
    "ckpt_path = './model/nin/mode.ckpt'\n",
    "\n",
    "predict = NIN(x_data, 10, is_training)\n",
    "\n",
    "loss = tf.reduce_mean(tf.nn.softmax_cross_entropy_with_logits(logits=predict, labels=y_data))\n",
    "with tf.control_dependencies(tf.get_collection(tf.GraphKeys.UPDATE_OPS)):#批归一化层\n",
    "    train_step = tf.train.AdamOptimizer(1e-3).minimize(loss)\n",
    "acc = tf.reduce_mean(tf.cast(tf.equal(tf.argmax(predict, 1), tf.argmax(y_data, 1)), tf.float32))\n",
    "saver = tf.train.Saver()\n",
    "with tf.Session() as sess:\n",
    "    sess.run(tf.global_variables_initializer())\n",
    "    best_validation_loss = 1000000.0\n",
    "    current_epoch = 0\n",
    "    \n",
    "    epoch = EPOCHS\n",
    "    batch_size = BATCH_SIZE\n",
    "    train_size = len(x_train)\n",
    "    train_index = list(range(train_size))\n",
    "    for n in range(epoch):\n",
    "        random.shuffle(train_index)  # 每个epoch都shuffle一下效果更好\n",
    "        x_train_, y_train_ = x_train[train_index], y_train[train_index]\n",
    "        #添加交叉验证\n",
    "        #x_train, x_val, y_train, y_val = train_test_split(train_img, train_y, test_size=0.1, random_state=42, shuffle=True)\n",
    "        for i in range(0, train_size, batch_size):\n",
    "            x_batch = x_train_[i : i + batch_size]\n",
    "            y_batch = y_train_[i : i + batch_size]\n",
    "            _, loss_step = sess.run([train_step, loss], \\\n",
    "                             feed_dict={x_data:x_batch, y_data:y_batch, is_training:True})\n",
    "            #数据扩充\n",
    "            x_batch_aug = batch_augment(x_batch)\n",
    "            _, loss_aug = sess.run([train_step, loss], \\\n",
    "                                    feed_dict={x_data:x_batch_aug, y_data:y_batch, is_training:True})\n",
    "        if n % 5 == 0:\n",
    "            #print(predict.eval(feed_dict={x_data:x_val, y_data:y_val, is_training:False}))\n",
    "            validation_loss, accuracy = sess.run([loss, acc], feed_dict={x_data:x_val, y_data:y_val, is_training:False})\n",
    "            #validation_loss = loss.eval(feed_dict={x_data:x_val, y_data:y_val, is_training:False})\n",
    "            #accuracy = acc.eval(feed_dict={x_data:x_val, y_data:y_val, is_training:False})\n",
    "            print(\"epoch %d train loss is %f validataion loss is %f accuracy is %f\" % (n, loss_step, validation_loss, accuracy))\n",
    "        if validation_loss < best_validation_loss:\n",
    "            print('----  epoch %d current best_validation_loss is %f' % (n, validation_loss))\n",
    "            best_validation_loss = validation_loss\n",
    "            current_epoch = n\n",
    "            saver.save(sess, ckpt_path)\n",
    "        elif (n - current_epoch) >= EARLY_STOP_PATIENCE:\n",
    "            print('early stoping')\n",
    "            break  "
   ]
  },
  {
   "cell_type": "code",
   "execution_count": 25,
   "metadata": {},
   "outputs": [],
   "source": [
    "### 计算混淆矩阵  ###\n",
    "def testModel(ckpt_path):\n",
    "    tf.reset_default_graph()#mo\n",
    "    x_data = tf.placeholder(tf.float32, [None, 32, 32, 3])\n",
    "    y_data = tf.placeholder(tf.float32, [None, 10])\n",
    "    is_training = tf.placeholder(tf.bool)\n",
    "    predict = NIN(x_data, 10, is_training)\n",
    "    accuracy = tf.reduce_mean(tf.cast(tf.equal(tf.argmax(predict, 1), tf.argmax(y_data, 1)), tf.float32))\n",
    "    saver = tf.train.Saver() \n",
    "    with tf.Session() as sess:\n",
    "        saver.restore(sess, ckpt_path)\n",
    "        #sess.run(out, feed_dict={x_data:x_val, y_data:y_val, is_training:False})\n",
    "        y_hat = predict.eval({x_data: x_val, is_training:False})\n",
    "        y_pred = np.argmax(y_hat, axis=1)\n",
    "        y_true = np.argmax(y_val, axis=1)\n",
    "        cm = confusion_matrix(y_true, y_pred)\n",
    "        '''\n",
    "        for i in range(cm.shape[0]):# 混淆矩阵\n",
    "            for j in range(cm.shape[1]):\n",
    "                print(cm[i][j], end=' ')\n",
    "            print('\\n')\n",
    "        '''\n",
    "        print(cm)\n",
    "        acc = accuracy.eval(feed_dict={x_data:x_val, y_data:y_val, is_training:False})\n",
    "        print(acc)"
   ]
  },
  {
   "cell_type": "code",
   "execution_count": 26,
   "metadata": {},
   "outputs": [
    {
     "name": "stdout",
     "output_type": "stream",
     "text": [
      "INFO:tensorflow:Restoring parameters from ./model/nin/mode.ckpt\n",
      "[[ 78   0   1   2   2   0   0   0   1   0]\n",
      " [  0  98   1   1   0   0   0   0   1   3]\n",
      " [  1   0  67   4   2   2   5   2   0   1]\n",
      " [  1   0   0 102   2   5   2   4   0   1]\n",
      " [  0   0   1   1  93   2   4   4   1   0]\n",
      " [  1   0   1  13   3  84   1  10   0   0]\n",
      " [  0   0   0   2   1   1  91   0   0   0]\n",
      " [  0   0   0   2   2   0   0  90   0   0]\n",
      " [  3   0   0   0   0   0   0   0  79   2]\n",
      " [  1   1   0   0   0   0   0   0   2 115]]\n",
      "0.897\n"
     ]
    }
   ],
   "source": [
    "testModel(ckpt_path)"
   ]
  },
  {
   "cell_type": "code",
   "execution_count": 31,
   "metadata": {},
   "outputs": [],
   "source": [
    "### Submit ###\n",
    "def submit(model_save_path, output_file):\n",
    "    tf.reset_default_graph()\n",
    "    x_test_data = tf.placeholder(tf.float32, [None, 32, 32, 3])\n",
    "    is_training = tf.placeholder(tf.bool)\n",
    "    predict = NIN(x_test_data, 10, is_training)\n",
    "    \n",
    "    saver = tf.train.Saver()\n",
    "    with tf.Session() as sess:\n",
    "        saver.restore(sess, model_save_path)\n",
    "        \n",
    "        test_size = len(test_all)\n",
    "        print(test_size)\n",
    "        batch_size = 200\n",
    "        f = open(output_file, 'w')\n",
    "        f.write('id,label\\n')\n",
    "        for i in range(0, test_size, batch_size):\n",
    "            x_test_batch = test_all[i : i + batch_size]\n",
    "            y_hat = predict.eval({x_test_data: x_test_batch, is_training:False})\n",
    "            y_pred_batch = np.argmax(y_hat, axis=1)\n",
    "            #vInt2label = np.vectorize(int2label)\n",
    "            #print(len(x_test_batch))\n",
    "            for j in range(len(y_pred_batch)):\n",
    "                #print(i)\n",
    "                f.write(\"\".join([str(i+j+1), ',', int2lable[y_pred_batch[j]], '\\n']))\n",
    "        f.close()\n",
    "    print('Finish!')"
   ]
  },
  {
   "cell_type": "code",
   "execution_count": 32,
   "metadata": {},
   "outputs": [
    {
     "name": "stdout",
     "output_type": "stream",
     "text": [
      "INFO:tensorflow:Restoring parameters from ./model/nin/mode.ckpt\n",
      "300000\n",
      "Finish!\n"
     ]
    }
   ],
   "source": [
    "output_file = \"submission.csv\"\n",
    "submit(ckpt_path, output_file)"
   ]
  },
  {
   "cell_type": "code",
   "execution_count": null,
   "metadata": {},
   "outputs": [],
   "source": []
  }
 ],
 "metadata": {
  "kernelspec": {
   "display_name": "Python 3",
   "language": "python",
   "name": "python3"
  },
  "language_info": {
   "codemirror_mode": {
    "name": "ipython",
    "version": 3
   },
   "file_extension": ".py",
   "mimetype": "text/x-python",
   "name": "python",
   "nbconvert_exporter": "python",
   "pygments_lexer": "ipython3",
   "version": "3.6.5"
  }
 },
 "nbformat": 4,
 "nbformat_minor": 2
}
