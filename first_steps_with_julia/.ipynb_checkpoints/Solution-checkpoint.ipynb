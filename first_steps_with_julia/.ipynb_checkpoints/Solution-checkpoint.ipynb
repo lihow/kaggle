{
 "cells": [
  {
   "cell_type": "code",
   "execution_count": 84,
   "metadata": {},
   "outputs": [],
   "source": [
    "import os\n",
    "import glob\n",
    "import numpy as np\n",
    "import pandas as pd\n",
    "import tensorflow as tf\n",
    "from natsort import natsorted\n",
    "import matplotlib.pyplot as plt\n",
    "from skimage.transform import resize\n",
    "from skimage.io import imread, imsave\n",
    "os.environ['CUDA_VISIBLE_DEVICES']='2'\n",
    "%matplotlib inline\n",
    "#http://ankivil.com/kaggle-first-steps-with-julia-chars74k-first-place-using-convolutional-neural-networks/"
   ]
  },
  {
   "cell_type": "code",
   "execution_count": 17,
   "metadata": {},
   "outputs": [],
   "source": [
    "def label2int(ch):\n",
    "    ascii_val = ord(ch)\n",
    "    if(ascii_val <= 57): #0-9\n",
    "        ascii_val -= 48\n",
    "    elif(ascii_val <= 90): #A-Z\n",
    "        ascii_val -= 55\n",
    "    else: #a-z\n",
    "        ascii_val -= 61\n",
    "    return ascii_val\n",
    "def int2label(i):\n",
    "    if(i <= 9): #0-9\n",
    "        i += 48\n",
    "    elif(i<=35): #A-Z\n",
    "        i += 55\n",
    "    else: #a-z\n",
    "        i += 61\n",
    "    return chr(i)"
   ]
  },
  {
   "cell_type": "code",
   "execution_count": 74,
   "metadata": {},
   "outputs": [],
   "source": [
    "#图片数据持久化，保存到本地，供下次直接调用\n",
    "def data_preprocessing(data_path, img_rows=32, img_cols=32):\n",
    "    if (os.path.exists(data_path + '/' + 'train_' + str(img_rows) +  '_' + str(img_cols) + '.npy') \n",
    "        and os.path.exists(data_path + '/' + 'test_' + str(img_rows) +  '_' + str(img_cols) + '.npy') \n",
    "        and os.path.exists(data_path + '/' + 'labels.npy')):\n",
    "        print('data have already processed')\n",
    "    else:\n",
    "        ### Image preprocessing ###\n",
    "        if not os.path.exists(data_path + \"/trainResized\"):\n",
    "            os.makedirs(data_path + \"/trainResized\")\n",
    "        if not os.path.exists(data_path + \"/testResized\"):\n",
    "            os.makedirs(data_path + \"/testResized\")\n",
    "        for set_type in ['train', 'test']:\n",
    "            files = natsorted(glob.glob(data_path + '/' + set_type + '/*'))\n",
    "            data = np.zeros((len(files), img_rows, img_cols))\n",
    "            for i, file_path in enumerate(files):\n",
    "                img = imread(file_path, as_grey=True) #读入的图为[0, 1]图\n",
    "                img_resized = resize(img, (img_rows, img_cols))\n",
    "                data[i] = img_resized\n",
    "                #Save image\n",
    "                new_name = \"/\".join(file_path.split(\"/\")[:-1] ) + \"Resized/\" + file_path.split(\"/\")[-1]\n",
    "                imsave(new_name, img_resized)\n",
    "            #Add channel/filter dimension [222, 32, 32] => [222, 1, 32, 32]\n",
    "            data = data[:, :, :, np.newaxis]\n",
    "            data = data.astype('float32')\n",
    "            #data /= 255\n",
    "            np.save(data_path + '/' + set_type + '_' + str(img_rows) +  '_' + str(img_cols) + '.npy', data)\n",
    "        ### Labels preprocessing ###\n",
    "        y_train = pd.read_csv(data_path + '/trainLabels.csv').values[:, 1]\n",
    "        #Convert one-hot vectors\n",
    "        Y_train = np.zeros((y_train.shape[0], len(np.unique(y_train))))\n",
    "        for i in range(y_train.shape[0]):\n",
    "            Y_train[i][label2int(y_train[i])] = 1\n",
    "        np.save(data_path + '/' + 'labels.npy', Y_train)\n",
    "    X_train_all = np.load(data_path + '/' + 'train_' + str(img_rows) +  '_' + str(img_cols) + '.npy')\n",
    "    Y_train_all = np.load(data_path + '/' + 'labels.npy')\n",
    "    test_all = np.load(data_path + '/' + 'test_' + str(img_rows) +  '_' + str(img_cols) + '.npy')\n",
    "    print('Finish')\n",
    "    return X_train_all, Y_train_all, test_all"
   ]
  },
  {
   "cell_type": "code",
   "execution_count": 75,
   "metadata": {
    "scrolled": true
   },
   "outputs": [
    {
     "name": "stderr",
     "output_type": "stream",
     "text": [
      "/home/lhw/anaconda3/lib/python3.6/site-packages/skimage/transform/_warps.py:84: UserWarning: The default mode, 'constant', will be changed to 'reflect' in skimage 0.15.\n",
      "  warn(\"The default mode, 'constant', will be changed to 'reflect' in \"\n",
      "/home/lhw/anaconda3/lib/python3.6/site-packages/skimage/util/dtype.py:122: UserWarning: Possible precision loss when converting from float64 to uint8\n",
      "  .format(dtypeobj_in, dtypeobj_out))\n",
      "/home/lhw/anaconda3/lib/python3.6/site-packages/skimage/io/_io.py:132: UserWarning: data/trainResized/17.Bmp is a low contrast image\n",
      "  warn('%s is a low contrast image' % fname)\n",
      "/home/lhw/anaconda3/lib/python3.6/site-packages/skimage/io/_io.py:132: UserWarning: data/trainResized/125.Bmp is a low contrast image\n",
      "  warn('%s is a low contrast image' % fname)\n",
      "/home/lhw/anaconda3/lib/python3.6/site-packages/skimage/io/_io.py:132: UserWarning: data/trainResized/181.Bmp is a low contrast image\n",
      "  warn('%s is a low contrast image' % fname)\n",
      "/home/lhw/anaconda3/lib/python3.6/site-packages/skimage/io/_io.py:132: UserWarning: data/trainResized/468.Bmp is a low contrast image\n",
      "  warn('%s is a low contrast image' % fname)\n",
      "/home/lhw/anaconda3/lib/python3.6/site-packages/skimage/io/_io.py:132: UserWarning: data/trainResized/591.Bmp is a low contrast image\n",
      "  warn('%s is a low contrast image' % fname)\n",
      "/home/lhw/anaconda3/lib/python3.6/site-packages/skimage/io/_io.py:132: UserWarning: data/trainResized/1371.Bmp is a low contrast image\n",
      "  warn('%s is a low contrast image' % fname)\n",
      "/home/lhw/anaconda3/lib/python3.6/site-packages/skimage/io/_io.py:132: UserWarning: data/trainResized/2066.Bmp is a low contrast image\n",
      "  warn('%s is a low contrast image' % fname)\n",
      "/home/lhw/anaconda3/lib/python3.6/site-packages/skimage/io/_io.py:132: UserWarning: data/trainResized/2637.Bmp is a low contrast image\n",
      "  warn('%s is a low contrast image' % fname)\n",
      "/home/lhw/anaconda3/lib/python3.6/site-packages/skimage/io/_io.py:132: UserWarning: data/trainResized/2878.Bmp is a low contrast image\n",
      "  warn('%s is a low contrast image' % fname)\n",
      "/home/lhw/anaconda3/lib/python3.6/site-packages/skimage/io/_io.py:132: UserWarning: data/trainResized/3963.Bmp is a low contrast image\n",
      "  warn('%s is a low contrast image' % fname)\n",
      "/home/lhw/anaconda3/lib/python3.6/site-packages/skimage/io/_io.py:132: UserWarning: data/trainResized/4632.Bmp is a low contrast image\n",
      "  warn('%s is a low contrast image' % fname)\n",
      "/home/lhw/anaconda3/lib/python3.6/site-packages/skimage/io/_io.py:132: UserWarning: data/trainResized/4761.Bmp is a low contrast image\n",
      "  warn('%s is a low contrast image' % fname)\n",
      "/home/lhw/anaconda3/lib/python3.6/site-packages/skimage/io/_io.py:132: UserWarning: data/trainResized/4895.Bmp is a low contrast image\n",
      "  warn('%s is a low contrast image' % fname)\n",
      "/home/lhw/anaconda3/lib/python3.6/site-packages/skimage/io/_io.py:132: UserWarning: data/trainResized/4958.Bmp is a low contrast image\n",
      "  warn('%s is a low contrast image' % fname)\n",
      "/home/lhw/anaconda3/lib/python3.6/site-packages/skimage/io/_io.py:132: UserWarning: data/trainResized/5140.Bmp is a low contrast image\n",
      "  warn('%s is a low contrast image' % fname)\n",
      "/home/lhw/anaconda3/lib/python3.6/site-packages/skimage/io/_io.py:132: UserWarning: data/trainResized/5395.Bmp is a low contrast image\n",
      "  warn('%s is a low contrast image' % fname)\n",
      "/home/lhw/anaconda3/lib/python3.6/site-packages/skimage/io/_io.py:132: UserWarning: data/trainResized/5601.Bmp is a low contrast image\n",
      "  warn('%s is a low contrast image' % fname)\n",
      "/home/lhw/anaconda3/lib/python3.6/site-packages/skimage/io/_io.py:132: UserWarning: data/trainResized/5718.Bmp is a low contrast image\n",
      "  warn('%s is a low contrast image' % fname)\n",
      "/home/lhw/anaconda3/lib/python3.6/site-packages/skimage/io/_io.py:132: UserWarning: data/trainResized/5971.Bmp is a low contrast image\n",
      "  warn('%s is a low contrast image' % fname)\n",
      "/home/lhw/anaconda3/lib/python3.6/site-packages/skimage/io/_io.py:132: UserWarning: data/trainResized/6019.Bmp is a low contrast image\n",
      "  warn('%s is a low contrast image' % fname)\n",
      "/home/lhw/anaconda3/lib/python3.6/site-packages/skimage/io/_io.py:132: UserWarning: data/testResized/6441.Bmp is a low contrast image\n",
      "  warn('%s is a low contrast image' % fname)\n",
      "/home/lhw/anaconda3/lib/python3.6/site-packages/skimage/io/_io.py:132: UserWarning: data/testResized/6484.Bmp is a low contrast image\n",
      "  warn('%s is a low contrast image' % fname)\n",
      "/home/lhw/anaconda3/lib/python3.6/site-packages/skimage/io/_io.py:132: UserWarning: data/testResized/6960.Bmp is a low contrast image\n",
      "  warn('%s is a low contrast image' % fname)\n",
      "/home/lhw/anaconda3/lib/python3.6/site-packages/skimage/io/_io.py:132: UserWarning: data/testResized/7290.Bmp is a low contrast image\n",
      "  warn('%s is a low contrast image' % fname)\n",
      "/home/lhw/anaconda3/lib/python3.6/site-packages/skimage/io/_io.py:132: UserWarning: data/testResized/7562.Bmp is a low contrast image\n",
      "  warn('%s is a low contrast image' % fname)\n",
      "/home/lhw/anaconda3/lib/python3.6/site-packages/skimage/io/_io.py:132: UserWarning: data/testResized/7567.Bmp is a low contrast image\n",
      "  warn('%s is a low contrast image' % fname)\n",
      "/home/lhw/anaconda3/lib/python3.6/site-packages/skimage/io/_io.py:132: UserWarning: data/testResized/7780.Bmp is a low contrast image\n",
      "  warn('%s is a low contrast image' % fname)\n",
      "/home/lhw/anaconda3/lib/python3.6/site-packages/skimage/io/_io.py:132: UserWarning: data/testResized/7893.Bmp is a low contrast image\n",
      "  warn('%s is a low contrast image' % fname)\n",
      "/home/lhw/anaconda3/lib/python3.6/site-packages/skimage/io/_io.py:132: UserWarning: data/testResized/7946.Bmp is a low contrast image\n",
      "  warn('%s is a low contrast image' % fname)\n",
      "/home/lhw/anaconda3/lib/python3.6/site-packages/skimage/io/_io.py:132: UserWarning: data/testResized/8990.Bmp is a low contrast image\n",
      "  warn('%s is a low contrast image' % fname)\n",
      "/home/lhw/anaconda3/lib/python3.6/site-packages/skimage/io/_io.py:132: UserWarning: data/testResized/9027.Bmp is a low contrast image\n",
      "  warn('%s is a low contrast image' % fname)\n",
      "/home/lhw/anaconda3/lib/python3.6/site-packages/skimage/io/_io.py:132: UserWarning: data/testResized/9200.Bmp is a low contrast image\n",
      "  warn('%s is a low contrast image' % fname)\n",
      "/home/lhw/anaconda3/lib/python3.6/site-packages/skimage/io/_io.py:132: UserWarning: data/testResized/9407.Bmp is a low contrast image\n",
      "  warn('%s is a low contrast image' % fname)\n",
      "/home/lhw/anaconda3/lib/python3.6/site-packages/skimage/io/_io.py:132: UserWarning: data/testResized/9436.Bmp is a low contrast image\n",
      "  warn('%s is a low contrast image' % fname)\n",
      "/home/lhw/anaconda3/lib/python3.6/site-packages/skimage/io/_io.py:132: UserWarning: data/testResized/9801.Bmp is a low contrast image\n",
      "  warn('%s is a low contrast image' % fname)\n",
      "/home/lhw/anaconda3/lib/python3.6/site-packages/skimage/io/_io.py:132: UserWarning: data/testResized/9925.Bmp is a low contrast image\n",
      "  warn('%s is a low contrast image' % fname)\n",
      "/home/lhw/anaconda3/lib/python3.6/site-packages/skimage/io/_io.py:132: UserWarning: data/testResized/10166.Bmp is a low contrast image\n",
      "  warn('%s is a low contrast image' % fname)\n",
      "/home/lhw/anaconda3/lib/python3.6/site-packages/skimage/io/_io.py:132: UserWarning: data/testResized/10326.Bmp is a low contrast image\n",
      "  warn('%s is a low contrast image' % fname)\n",
      "/home/lhw/anaconda3/lib/python3.6/site-packages/skimage/io/_io.py:132: UserWarning: data/testResized/10531.Bmp is a low contrast image\n",
      "  warn('%s is a low contrast image' % fname)\n",
      "/home/lhw/anaconda3/lib/python3.6/site-packages/skimage/io/_io.py:132: UserWarning: data/testResized/10548.Bmp is a low contrast image\n",
      "  warn('%s is a low contrast image' % fname)\n",
      "/home/lhw/anaconda3/lib/python3.6/site-packages/skimage/io/_io.py:132: UserWarning: data/testResized/10823.Bmp is a low contrast image\n",
      "  warn('%s is a low contrast image' % fname)\n",
      "/home/lhw/anaconda3/lib/python3.6/site-packages/skimage/io/_io.py:132: UserWarning: data/testResized/11079.Bmp is a low contrast image\n",
      "  warn('%s is a low contrast image' % fname)\n",
      "/home/lhw/anaconda3/lib/python3.6/site-packages/skimage/io/_io.py:132: UserWarning: data/testResized/11248.Bmp is a low contrast image\n",
      "  warn('%s is a low contrast image' % fname)\n",
      "/home/lhw/anaconda3/lib/python3.6/site-packages/skimage/io/_io.py:132: UserWarning: data/testResized/11978.Bmp is a low contrast image\n",
      "  warn('%s is a low contrast image' % fname)\n"
     ]
    },
    {
     "name": "stdout",
     "output_type": "stream",
     "text": [
      "Finish\n"
     ]
    }
   ],
   "source": [
    "data_path = 'data'\n",
    "X_train_all, Y_train_all, test_all = data_preprocessing(data_path, 32, 32)"
   ]
  },
  {
   "cell_type": "code",
   "execution_count": 82,
   "metadata": {},
   "outputs": [
    {
     "name": "stdout",
     "output_type": "stream",
     "text": [
      "(6283, 32, 32, 1) (6283, 62)\n",
      "(32, 32, 1)\n",
      "[0. 0. 0. 0. 0. 0. 0. 0. 0. 0. 0. 0. 0. 0. 0. 0. 0. 0. 0. 0. 0. 0. 0. 0.\n",
      " 0. 0. 0. 0. 0. 0. 0. 0. 1. 0. 0. 0. 0. 0. 0. 0. 0. 0. 0. 0. 0. 0. 0. 0.\n",
      " 0. 0. 0. 0. 0. 0. 0. 0. 0. 0. 0. 0. 0. 0.]\n"
     ]
    },
    {
     "data": {
      "text/plain": [
       "<matplotlib.image.AxesImage at 0x7fbc3dfa2898>"
      ]
     },
     "execution_count": 82,
     "metadata": {},
     "output_type": "execute_result"
    },
    {
     "data": {
      "image/png": "[encoded data removed]",
      "text/plain": [
       "<Figure size 432x288 with 1 Axes>"
      ]
     },
     "metadata": {},
     "output_type": "display_data"
    }
   ],
   "source": [
    "print(X_train_all.shape, Y_train_all.shape)\n",
    "sample_x = X_train_all[5]\n",
    "print(X_train_all[5].shape)\n",
    "print(Y_train_all[5])\n",
    "plt.title('train sample', size=16)\n",
    "plt.imshow(sample_x[..., 0])"
   ]
  },
  {
   "cell_type": "code",
   "execution_count": null,
   "metadata": {},
   "outputs": [],
   "source": [
    "###定义模型###\n",
    "def mode(input, is_training):\n",
    "    with tf.variable_scope('layer1-conv'):\n",
    "        conv1 = tf.layers.conv2d(input, 128, 3, 3, strides=1, padding='SAME')\n",
    "        norm1 = tf.layers.batch_normalization(conv1, center=True, scale=True, training=is_training)\n",
    "        relu1 = tf.nn.relu(norm1)\n",
    "    with tf.variable_scope('layer2-conv-pool'):\n",
    "        conv2 = tf.layers.conv2d(relu1, 128, 3, 3, strides=1, padding='SAME')\n",
    "        norm2 = tf.layers.batch_normalization(conv2, center=True, scale=True, training=is_training)\n",
    "        relu2 = tf.nn.relu(norm2)\n",
    "        pool2 = tf.layers.max_pooling2d(relu2, pool_size=[2, 2], strides=2, padding='SAME')\n",
    "    with tf.variable_scope('layer3-conv'):\n",
    "        conv3 = tf.layers.conv2(pool2, 256, 3, 3, strides=1, padding='SAME')\n",
    "        norm3 = tf.layers.batch_normalization(conv3, center=True, scale=True, training=is_training)\n",
    "        relu3 = tf.nn.relu(norm3)\n",
    "    with tf.variable_scope('layer4-conv-pool'):\n",
    "        conv4 = tf.layers.conv2d(relu3, 256, 3, 3, strides=1, padding='SAME')\n",
    "        norm4 = tf.layers.batch_normalization(conv4, center=True, scale=True, training=is_training)\n",
    "        relu4 = tf.nn.relu(norm4)\n",
    "        pool4 = tf.layers.max_pooling2d(relu4, pool_size[2, 2], strides=2, padding='SAME')\n",
    "    with tf.variable_scope('layer5-conv'):\n",
    "        conv5 = tf.layers.conv2(pool4, 512, 3, 3, strides=1, padding='SAME')\n",
    "        norm5 = tf.layers.batch_normalization(conv5, center=True, scale=True, training=is_training)\n",
    "        relu5 = tf.nn.relu(norm5)\n",
    "    with tf.variable_scope('layer6-conv'):\n",
    "        conv6 = tf.layers.conv2(relu5, 512, 3, 3, strides=1, padding='SAME')\n",
    "        norm6 = tf.layers.batch_normalization(conv6, center=True, scale=True, training=is_training)\n",
    "        relu6 = tf.nn.relu(norm6) \n",
    "    with tf.variable_scope('layer7-conv-pool'):\n",
    "        conv7 = tf.layers.conv2d(relu6, 512, 3, 3, strides=1, padding='SAME')\n",
    "        norm7 = tf.layers.batch_normalization(conv7, center=True, scale=True, training=is_training)\n",
    "        relu7 = tf.nn.relu(norm7)\n",
    "        pool7 = tf.layers.max_pooling2d(relu7, pool_size[2, 2], strides=2, padding='SAME')\n",
    "    with tf.variable_scope('layer8-FC')：\n",
    "        "
   ]
  }
 ],
 "metadata": {
  "kernelspec": {
   "display_name": "Python 3",
   "language": "python",
   "name": "python3"
  },
  "language_info": {
   "codemirror_mode": {
    "name": "ipython",
    "version": 3
   },
   "file_extension": ".py",
   "mimetype": "text/x-python",
   "name": "python",
   "nbconvert_exporter": "python",
   "pygments_lexer": "ipython3",
   "version": "3.6.5"
  }
 },
 "nbformat": 4,
 "nbformat_minor": 2
}
