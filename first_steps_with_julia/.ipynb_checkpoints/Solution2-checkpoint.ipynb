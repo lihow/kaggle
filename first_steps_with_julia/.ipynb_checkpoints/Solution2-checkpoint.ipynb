{
 "cells": [
  {
   "cell_type": "code",
   "execution_count": 1,
   "metadata": {},
   "outputs": [
    {
     "name": "stderr",
     "output_type": "stream",
     "text": [
      "/home/lhw/anaconda3/lib/python3.6/importlib/_bootstrap.py:219: RuntimeWarning: compiletime version 3.5 of module 'tensorflow.python.framework.fast_tensor_util' does not match runtime version 3.6\n",
      "  return f(*args, **kwds)\n",
      "/home/lhw/anaconda3/lib/python3.6/site-packages/h5py/__init__.py:36: FutureWarning: Conversion of the second argument of issubdtype from `float` to `np.floating` is deprecated. In future, it will be treated as `np.float64 == np.dtype(float).type`.\n",
      "  from ._conv import register_converters as _register_converters\n"
     ]
    }
   ],
   "source": [
    "import os\n",
    "import cv2\n",
    "import glob\n",
    "import random\n",
    "import numpy as np\n",
    "import imgaug as ia\n",
    "import pandas as pd\n",
    "import tensorflow as tf\n",
    "from natsort import natsorted\n",
    "import matplotlib.pyplot as plt\n",
    "from imgaug import augmenters as iaa\n",
    "from imgaug import parameters as iap\n",
    "from skimage.transform import resize\n",
    "from skimage.io import imread, imsave\n",
    "from sklearn.metrics import confusion_matrix\n",
    "from skimage import transform, filters, exposure\n",
    "os.environ['CUDA_VISIBLE_DEVICES']='3'\n",
    "%matplotlib inline\n",
    "#http://florianmuellerklein.github.io/cnn_streetview/"
   ]
  },
  {
   "cell_type": "code",
   "execution_count": 2,
   "metadata": {},
   "outputs": [],
   "source": [
    "def label2int(ch):\n",
    "    ascii_val = ord(ch)\n",
    "    if(ascii_val <= 57): #0-9\n",
    "        ascii_val -= 48\n",
    "    elif(ascii_val <= 90): #A-Z\n",
    "        ascii_val -= 55\n",
    "    else: #a-z\n",
    "        ascii_val -= 61\n",
    "    return ascii_val\n",
    "def int2label(i):\n",
    "    if(i <= 9): #0-9\n",
    "        i += 48\n",
    "    elif(i<=35): #A-Z\n",
    "        i += 55\n",
    "    else: #a-z\n",
    "        i += 61\n",
    "    return chr(i)"
   ]
  },
  {
   "cell_type": "code",
   "execution_count": 3,
   "metadata": {},
   "outputs": [],
   "source": [
    "#图片数据持久化，保存到本地，供下次直接调用\n",
    "def data_preprocessing_bgr(data_path, img_rows=32, img_cols=32):\n",
    "    if (os.path.exists(data_path + '/' + 'train_' + str(img_rows) +  '_' + str(img_cols) + '_1.npy') \n",
    "        and os.path.exists(data_path + '/' + 'test_' + str(img_rows) +  '_' + str(img_cols) + '_1.npy') \n",
    "        and os.path.exists(data_path + '/' + 'labels_3.npy')):\n",
    "        print('data have already processed')\n",
    "    else:\n",
    "        ### Image preprocessing ###\n",
    "        for set_type in ['train', 'test']:\n",
    "            files = natsorted(glob.glob(data_path + '/' + set_type + '/*'))\n",
    "            data = np.zeros((len(files), img_rows, img_cols))\n",
    "            for i, file_path in enumerate(files):\n",
    "                #利用opencv读取图片\n",
    "                img = cv2.imread(file_path, 0)\n",
    "                img_resized = cv2.resize(img, (img_rows, img_cols))#读入的[0, 255]的图\n",
    "                data[i] = img_resized               \n",
    "            #Add channel/filter dimension [222, 32, 32] => [222, 1, 32, 32]\n",
    "            #train_img = np.stack(train_img)[..., None]\n",
    "            data = data[:, :, :, np.newaxis]\n",
    "            data = data.astype('float32')\n",
    "            #data /= 255\n",
    "            np.save(data_path + '/' + set_type + '_' + str(img_rows) +  '_' + str(img_cols) + '_1.npy', data)\n",
    "        ### Labels preprocessing ###\n",
    "        y_train = pd.read_csv(data_path + '/trainLabels.csv').values[:, 1]\n",
    "        #Convert one-hot vectors\n",
    "        Y_train = np.zeros((y_train.shape[0], len(np.unique(y_train))))\n",
    "        for i in range(y_train.shape[0]):\n",
    "            Y_train[i][label2int(y_train[i])] = 1\n",
    "        np.save(data_path + '/' + 'labels_3.npy', Y_train)\n",
    "    X_train_all = np.load(data_path + '/' + 'train_' + str(img_rows) +  '_' + str(img_cols) + '_1.npy')\n",
    "    Y_train_all = np.load(data_path + '/' + 'labels_3.npy')\n",
    "    test_all = np.load(data_path + '/' + 'test_' + str(img_rows) +  '_' + str(img_cols) + '_1.npy')\n",
    "    print('Finish')\n",
    "    return X_train_all, Y_train_all, test_all"
   ]
  },
  {
   "cell_type": "code",
   "execution_count": 4,
   "metadata": {},
   "outputs": [
    {
     "name": "stdout",
     "output_type": "stream",
     "text": [
      "data have already processed\n",
      "Finish\n"
     ]
    }
   ],
   "source": [
    "data_path = 'data'\n",
    "X_train_all, Y_train_all, test_all = data_preprocessing_bgr(data_path, 64, 64)"
   ]
  },
  {
   "cell_type": "code",
   "execution_count": 36,
   "metadata": {},
   "outputs": [
    {
     "name": "stdout",
     "output_type": "stream",
     "text": [
      "(6283, 64, 64, 1) (6283, 62) (6220, 64, 64, 1)\n",
      "(64, 64, 1)\n",
      "[0. 0. 0. 0. 0. 0. 0. 0. 0. 0. 0. 0. 0. 0. 0. 0. 0. 0. 0. 0. 0. 0. 0. 0.\n",
      " 0. 0. 0. 0. 0. 0. 0. 0. 1. 0. 0. 0. 0. 0. 0. 0. 0. 0. 0. 0. 0. 0. 0. 0.\n",
      " 0. 0. 0. 0. 0. 0. 0. 0. 0. 0. 0. 0. 0. 0.]\n",
      "float32\n"
     ]
    },
    {
     "data": {
      "image/png": "[encoded data removed]",
      "text/plain": [
       "<Figure size 432x288 with 1 Axes>"
      ]
     },
     "metadata": {},
     "output_type": "display_data"
    }
   ],
   "source": [
    "print(X_train_all.shape, Y_train_all.shape, test_all.shape)\n",
    "sample_x = X_train_all[5]\n",
    "print(X_train_all[5].shape)\n",
    "print(Y_train_all[5])\n",
    "plt.title('train sample', size=16)\n",
    "plt.imshow(sample_x[..., 0])\n",
    "print(X_train_all.dtype)"
   ]
  },
  {
   "cell_type": "code",
   "execution_count": 37,
   "metadata": {},
   "outputs": [
    {
     "name": "stdout",
     "output_type": "stream",
     "text": [
      "(6083, 64, 64, 1) (200, 64, 64, 1)\n",
      "(62,)\n",
      "[[40 44 47 ... 42 44 44]\n",
      " [44 46 47 ... 44 42 38]\n",
      " [39 45 48 ... 49 45 43]\n",
      " ...\n",
      " [48 47 46 ... 46 47 51]\n",
      " [50 50 50 ... 48 48 47]\n",
      " [48 48 48 ... 47 49 47]]\n"
     ]
    }
   ],
   "source": [
    "### 划分验证集 ###\n",
    "#数据预处理 方法二\n",
    "VALIDATION_SIZE = 200    #验证集大小\n",
    "x_val, y_val = X_train_all[:VALIDATION_SIZE], Y_train_all[:VALIDATION_SIZE]\n",
    "x_train, y_train = X_train_all[VALIDATION_SIZE:].astype('uint8'), Y_train_all[VALIDATION_SIZE:].astype('uint8')\n",
    "print(x_train.shape, x_val.shape)\n",
    "print(y_val[0].shape)\n",
    "print(x_train[5][..., 0])"
   ]
  },
  {
   "cell_type": "code",
   "execution_count": 26,
   "metadata": {},
   "outputs": [],
   "source": [
    "def batch_augment2(data):\n",
    "    seq = iaa.Sequential([\n",
    "        iaa.Crop(percent=0.01), # # 从每侧裁剪图像0到16px（随机选择）\n",
    "        iaa.Fliplr(0.5), # 水平翻转图像 括号内为Probability of each image to get flipped.\n",
    "        iaa.Flipud(0.5), #上下翻转\n",
    "        #iaa.GaussianBlur(sigma=(0, 3.0)),  # 使用0到3.0的sigma模糊图像\n",
    "        iaa.Affine(scale=(0.7, 1.3), translate_percent=0.01, rotate=iap.Normal(-10, 10)),#旋转\n",
    "        iaa.Multiply(iap.Positive(iap.Normal(0.0, 0.1)) + 1.0),#明暗变化\n",
    "        #iaa.AddElementwise(iap.Discretize((iap.Beta(0.5, 0.5) * 2 - 1.0) * 64))\n",
    "        #iaa.AdditiveGaussianNoise(scale=(0,  0.05*255)),\n",
    "        iaa.Sharpen(alpha=0.5),\n",
    "        #iaa.Scale((0.5, 1.5))\n",
    "    ],random_order=True)#每个batch中的Augmenters顺序不一样\n",
    "    x_batch = seq.augment_images(data)\n",
    "    return x_batch"
   ]
  },
  {
   "cell_type": "code",
   "execution_count": 22,
   "metadata": {},
   "outputs": [],
   "source": [
    "def vgg_like_model(x, classes, is_training):\n",
    "    with tf.variable_scope('layer1-conv'):\n",
    "        conv1 = tf.layers.conv2d(x, 128, 3, strides=1, padding='VALID')\n",
    "        norm1 = tf.layers.batch_normalization(conv1, center=True, scale=True, training=is_training)\n",
    "        relu1 = tf.nn.relu(norm1)\n",
    "    with tf.variable_scope('layer2-conv'):\n",
    "        conv2 = tf.layers.conv2d(relu1, 128, 3, strides=1, padding='VALID')\n",
    "        norm2 = tf.layers.batch_normalization(conv2, center=True, scale=True, training=is_training)\n",
    "        relu2 = tf.nn.relu(norm2)\n",
    "    with tf.variable_scope('layer3-pool'):\n",
    "        pool3 = tf.layers.max_pooling2d(relu2, pool_size=[2, 2], strides=2, padding='SAME')\n",
    "    with tf.variable_scope('layer4-conv'):\n",
    "        conv4 = tf.layers.conv2d(pool3, 256, 3, strides=1, padding='VALID')\n",
    "        norm4 = tf.layers.batch_normalization(conv4, center=True, scale=True, training=is_training)\n",
    "        relu4 = tf.nn.relu(norm4)\n",
    "    with tf.variable_scope('layer5-conv'):\n",
    "        conv5 = tf.layers.conv2d(relu4, 256, 3, strides=1, padding='VALID')\n",
    "        norm5 = tf.layers.batch_normalization(conv5, center=True, scale=True, training=is_training)\n",
    "        relu5 = tf.nn.relu(norm5)  \n",
    "    with tf.variable_scope('layer6-pool'):\n",
    "        pool6 = tf.layers.max_pooling2d(relu5, pool_size=[2, 2], strides=2, padding='SAME')\n",
    "    with tf.variable_scope('layer7-conv'):\n",
    "        conv7 = tf.layers.conv2d(pool6, 512, 3, strides=1, padding='VALID')\n",
    "        norm7 = tf.layers.batch_normalization(conv7, center=True, scale=True, training=is_training)\n",
    "        relu7 = tf.nn.relu(norm7)  \n",
    "    with tf.variable_scope('layer8-conv'):\n",
    "        conv8 = tf.layers.conv2d(relu7, 512, 3, strides=1, padding='VALID')\n",
    "        norm8 = tf.layers.batch_normalization(conv8, center=True, scale=True, training=is_training)\n",
    "        relu8 = tf.nn.relu(norm8)\n",
    "    with tf.variable_scope('layer9-conv'):\n",
    "        conv9 = tf.layers.conv2d(relu8, 512, 3, strides=1, padding='VALID')\n",
    "        norm9 = tf.layers.batch_normalization(conv9, center=True, scale=True, training=is_training)\n",
    "        relu9 = tf.nn.relu(norm9) \n",
    "    with tf.variable_scope('layer10-pool'):\n",
    "        pool10 = tf.layers.max_pooling2d(relu9, pool_size=[2, 2], strides=2, padding='SAME')\n",
    "    with tf.variable_scope('layer11-FC'):\n",
    "        flatten = tf.reshape(pool10, [-1, 4*4*512])\n",
    "        fc11 = tf.layers.dense(flatten, 2048)\n",
    "        norm11 = tf.layers.batch_normalization(fc11, center=True, scale=True, training=is_training)\n",
    "        relu11 = tf.nn.relu(norm11)\n",
    "        if is_training == True:\n",
    "            relu11 = tf.layers.dropout(relu11, 0.5)       \n",
    "    with tf.variable_scope('layer12-FC'):\n",
    "        fc12 = tf.layers.dense(relu11, 2048)\n",
    "        norm12 = tf.layers.batch_normalization(fc12, center=True, scale=True, training=is_training)\n",
    "        relu12 = tf.nn.relu(norm12)\n",
    "        if is_training == True:\n",
    "            relu12 = tf.layers.dropout(relu12, 0.5)  \n",
    "    with tf.variable_scope('layer13-FC'):\n",
    "        output = tf.layers.dense(relu12, classes) \n",
    "    return output"
   ]
  },
  {
   "cell_type": "code",
   "execution_count": 40,
   "metadata": {},
   "outputs": [
    {
     "name": "stdout",
     "output_type": "stream",
     "text": [
      "epoch 0 train loss is 2.204450 validataion loss is 37.085663 accuracy is 0.045000\n",
      "epoch 5 train loss is 0.451701 validataion loss is 1.917642 accuracy is 0.575000\n",
      "epoch 10 train loss is 0.195826 validataion loss is 1.701146 accuracy is 0.675000\n",
      "epoch 15 train loss is 0.172256 validataion loss is 1.765121 accuracy is 0.705000\n",
      "epoch 20 train loss is 0.007429 validataion loss is 1.666669 accuracy is 0.710000\n",
      "epoch 25 train loss is 0.001719 validataion loss is 1.618080 accuracy is 0.735000\n",
      "epoch 30 train loss is 0.000298 validataion loss is 1.642537 accuracy is 0.745000\n",
      "epoch 35 train loss is 0.000374 validataion loss is 1.654060 accuracy is 0.745000\n",
      "epoch 40 train loss is 0.000406 validataion loss is 1.675276 accuracy is 0.745000\n",
      "epoch 45 train loss is 0.000237 validataion loss is 1.683625 accuracy is 0.750000\n",
      "epoch 50 train loss is 0.000343 validataion loss is 1.702956 accuracy is 0.750000\n",
      "epoch 55 train loss is 0.000116 validataion loss is 1.711277 accuracy is 0.750000\n",
      "epoch 60 train loss is 0.000174 validataion loss is 1.717830 accuracy is 0.750000\n",
      "epoch 65 train loss is 0.000108 validataion loss is 1.728459 accuracy is 0.750000\n",
      "epoch 70 train loss is 0.000200 validataion loss is 1.757445 accuracy is 0.750000\n",
      "epoch 75 train loss is 0.468466 validataion loss is 3.560488 accuracy is 0.610000\n",
      "epoch 80 train loss is 0.095017 validataion loss is 1.433753 accuracy is 0.730000\n",
      "epoch 85 train loss is 0.003547 validataion loss is 1.833067 accuracy is 0.700000\n",
      "epoch 90 train loss is 0.003610 validataion loss is 1.742518 accuracy is 0.740000\n",
      "epoch 95 train loss is 0.001367 validataion loss is 1.730403 accuracy is 0.735000\n",
      "epoch 100 train loss is 0.000460 validataion loss is 1.756603 accuracy is 0.725000\n",
      "epoch 105 train loss is 0.000544 validataion loss is 1.782713 accuracy is 0.730000\n",
      "epoch 110 train loss is 0.000304 validataion loss is 1.806332 accuracy is 0.735000\n",
      "epoch 115 train loss is 0.000166 validataion loss is 1.824285 accuracy is 0.735000\n",
      "epoch 120 train loss is 0.000229 validataion loss is 1.838908 accuracy is 0.735000\n",
      "epoch 125 train loss is 0.000104 validataion loss is 1.861393 accuracy is 0.735000\n",
      "epoch 130 train loss is 0.000118 validataion loss is 1.872910 accuracy is 0.735000\n",
      "epoch 135 train loss is 0.000067 validataion loss is 1.879718 accuracy is 0.735000\n",
      "epoch 140 train loss is 0.000056 validataion loss is 1.889434 accuracy is 0.735000\n",
      "epoch 145 train loss is 0.000150 validataion loss is 1.901959 accuracy is 0.735000\n",
      "epoch 150 train loss is 0.000078 validataion loss is 1.919876 accuracy is 0.735000\n",
      "epoch 155 train loss is 0.000109 validataion loss is 1.935043 accuracy is 0.735000\n",
      "epoch 160 train loss is 0.000065 validataion loss is 1.943285 accuracy is 0.735000\n",
      "epoch 165 train loss is 0.000033 validataion loss is 1.962306 accuracy is 0.735000\n",
      "epoch 170 train loss is 0.000053 validataion loss is 1.971087 accuracy is 0.730000\n",
      "epoch 175 train loss is 1.139807 validataion loss is 25.390991 accuracy is 0.295000\n",
      "epoch 180 train loss is 0.021110 validataion loss is 1.478572 accuracy is 0.760000\n",
      "early stoping\n"
     ]
    }
   ],
   "source": [
    "### 训练 ###\n",
    "#训练参数\n",
    "BATCH_SIZE = 128\n",
    "EPOCHS = 500             #迭代次数\n",
    "EARLY_STOP_PATIENCE = 100 #控制early stopping的参数\n",
    "\n",
    "tf.reset_default_graph()\n",
    "x_data = tf.placeholder(tf.float32, [None, 64, 64, 1])\n",
    "y_data = tf.placeholder(tf.float32, [None, 62])\n",
    "is_training = tf.placeholder(tf.bool)\n",
    "ckpt_path = './model/mode.ckpt'\n",
    "\n",
    "predict = vgg_like_model(x_data, 62, is_training)\n",
    "\n",
    "loss = tf.reduce_mean(tf.nn.softmax_cross_entropy_with_logits(logits=predict, labels=y_data))\n",
    "with tf.control_dependencies(tf.get_collection(tf.GraphKeys.UPDATE_OPS)):#批归一化层\n",
    "    train_step = tf.train.AdamOptimizer(1e-3).minimize(loss)\n",
    "acc = tf.reduce_mean(tf.cast(tf.equal(tf.argmax(predict, 1), tf.argmax(y_data, 1)), tf.float32))\n",
    "saver = tf.train.Saver()\n",
    "with tf.Session() as sess:\n",
    "    sess.run(tf.global_variables_initializer())\n",
    "    best_validation_loss = 1000000.0\n",
    "    current_epoch = 0\n",
    "    \n",
    "    epoch = EPOCHS\n",
    "    batch_size = BATCH_SIZE\n",
    "    train_size = len(x_train)\n",
    "    train_index = list(range(train_size))\n",
    "    for n in range(epoch):\n",
    "        random.shuffle(train_index)  # 每个epoch都shuffle一下效果更好\n",
    "        x_train_, y_train_ = x_train[train_index], y_train[train_index]\n",
    "        #添加交叉验证\n",
    "        #x_train, x_val, y_train, y_val = train_test_split(train_img, train_y, test_size=0.1, random_state=42, shuffle=True)\n",
    "        for i in range(0, train_size, batch_size):\n",
    "            x_batch = x_train_[i : i + batch_size]\n",
    "            y_batch = y_train_[i : i + batch_size]\n",
    "            _, loss_step = sess.run([train_step, loss], \\\n",
    "                             feed_dict={x_data:x_batch, y_data:y_batch, is_training:True})\n",
    "            #数据扩充\n",
    "            #x_batch_aug = batch_augment2(x_batch)\n",
    "            #_, loss_aug = sess.run([train_step, loss], \\\n",
    "            #                        feed_dict={x_data:x_batch_aug, y_data:y_batch, is_training:True})\n",
    "        if n % 5 == 0:\n",
    "            validation_loss, accuracy = sess.run([loss, acc], feed_dict={x_data:x_val, y_data:y_val, is_training:False})\n",
    "            #validation_loss = loss.eval(feed_dict={x_data:x_val, y_data:y_val, is_training:False})\n",
    "            #accuracy = acc.eval(feed_dict={x_data:x_val, y_data:y_val, is_training:False})\n",
    "            print(\"epoch %d train loss is %f validataion loss is %f accuracy is %f\" % (n, loss_step, validation_loss, accuracy))\n",
    "        if validation_loss < best_validation_loss:\n",
    "            best_validation_loss = validation_loss\n",
    "            current_epoch = n\n",
    "            saver.save(sess, ckpt_path)\n",
    "        elif (n - current_epoch) >= EARLY_STOP_PATIENCE:\n",
    "            print('early stoping')\n",
    "            break  "
   ]
  },
  {
   "cell_type": "code",
   "execution_count": null,
   "metadata": {},
   "outputs": [],
   "source": []
  }
 ],
 "metadata": {
  "kernelspec": {
   "display_name": "Python 3",
   "language": "python",
   "name": "python3"
  },
  "language_info": {
   "codemirror_mode": {
    "name": "ipython",
    "version": 3
   },
   "file_extension": ".py",
   "mimetype": "text/x-python",
   "name": "python",
   "nbconvert_exporter": "python",
   "pygments_lexer": "ipython3",
   "version": "3.6.5"
  }
 },
 "nbformat": 4,
 "nbformat_minor": 2
}
