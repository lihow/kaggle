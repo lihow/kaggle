{
 "cells": [
  {
   "cell_type": "code",
   "execution_count": 8,
   "metadata": {},
   "outputs": [],
   "source": [
    "import os\n",
    "import glob\n",
    "import shutil #拷贝文件\n",
    "import numpy as np\n",
    "import pandas as pd\n",
    "import matplotlib.pyplot as plt\n",
    "from skimage.transform import resize\n",
    "from skimage.io import imread, imsave\n",
    "os.environ['CUDA_VISIBLE_DEVICES']='3'"
   ]
  },
  {
   "cell_type": "code",
   "execution_count": 2,
   "metadata": {},
   "outputs": [],
   "source": [
    "def label2int(ch):\n",
    "    ascii_val = ord(ch)\n",
    "    if(ascii_val <= 57): #0-9\n",
    "        ascii_val -= 48\n",
    "    elif(ascii_val <= 90): #A-Z\n",
    "        ascii_val -= 55\n",
    "    else: #a-z\n",
    "        ascii_val -= 61\n",
    "    return ascii_val\n",
    "def int2label(i):\n",
    "    if(i <= 9): #0-9\n",
    "        i += 48\n",
    "    elif(i<=35): #A-Z\n",
    "        i += 55\n",
    "    else: #a-z\n",
    "        i += 61\n",
    "    return chr(i)"
   ]
  },
  {
   "cell_type": "code",
   "execution_count": 7,
   "metadata": {},
   "outputs": [],
   "source": [
    "'''\n",
    " 训练数据按文件夹分离，并且扩充数据集\n",
    "'''   \n",
    "def split_data_as_class(data_path='data', new_data_floder = 'data/new_train'):\n",
    "    files = glob.glob(data_path + '/train/*')\n",
    "    labels = pd.read_csv(data_path + '/trainLabels.csv')\n",
    "    for file_path in files:\n",
    "        idx =  file_path.split('/')[-1][:-4]\n",
    "        label = label2int(labels[labels.ID == int(idx)].Class.tolist()[0])\n",
    "        new_floder = new_data_floder + '/' + str(label)\n",
    "        if not os.path.exists(new_floder):\n",
    "            os.makedirs(new_floder)\n",
    "        new_file_path = new_floder + '/' + file_path.split(\"/\")[-1]\n",
    "        shutil.copyfile(file_path, new_file_path)\n",
    "        ### 扩充数据集  ###\n",
    "        #rotation\n",
    "        #width_shift\n",
    "        #height_shift\n",
    "        #shear\n",
    "        #zoom\n",
    "        #channel_shift\n",
    "    print('Finish!')"
   ]
  },
  {
   "cell_type": "code",
   "execution_count": null,
   "metadata": {},
   "outputs": [],
   "source": [
    "### 扩充数据 ###\n"
   ]
  }
 ],
 "metadata": {
  "kernelspec": {
   "display_name": "Python 3",
   "language": "python",
   "name": "python3"
  },
  "language_info": {
   "codemirror_mode": {
    "name": "ipython",
    "version": 3
   },
   "file_extension": ".py",
   "mimetype": "text/x-python",
   "name": "python",
   "nbconvert_exporter": "python",
   "pygments_lexer": "ipython3",
   "version": "3.6.5"
  }
 },
 "nbformat": 4,
 "nbformat_minor": 2
}
