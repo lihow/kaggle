{
 "cells": [
  {
   "cell_type": "code",
   "execution_count": 1,
   "metadata": {},
   "outputs": [
    {
     "name": "stderr",
     "output_type": "stream",
     "text": [
      "/home/lhw/anaconda3/lib/python3.6/importlib/_bootstrap.py:219: RuntimeWarning: compiletime version 3.5 of module 'tensorflow.python.framework.fast_tensor_util' does not match runtime version 3.6\n",
      "  return f(*args, **kwds)\n",
      "/home/lhw/anaconda3/lib/python3.6/site-packages/h5py/__init__.py:36: FutureWarning: Conversion of the second argument of issubdtype from `float` to `np.floating` is deprecated. In future, it will be treated as `np.float64 == np.dtype(float).type`.\n",
      "  from ._conv import register_converters as _register_converters\n"
     ]
    }
   ],
   "source": [
    "import os\n",
    "import glob\n",
    "import random\n",
    "import numpy as np\n",
    "import pandas as pd\n",
    "import tensorflow as tf\n",
    "from natsort import natsorted\n",
    "import matplotlib.pyplot as plt\n",
    "from skimage.transform import resize\n",
    "from skimage.io import imread, imsave\n",
    "from sklearn.metrics import confusion_matrix\n",
    "os.environ['CUDA_VISIBLE_DEVICES']='2'\n",
    "%matplotlib inline\n",
    "#http://ankivil.com/kaggle-first-steps-with-julia-chars74k-first-place-using-convolutional-neural-networks/"
   ]
  },
  {
   "cell_type": "code",
   "execution_count": 2,
   "metadata": {},
   "outputs": [],
   "source": [
    "def label2int(ch):\n",
    "    ascii_val = ord(ch)\n",
    "    if(ascii_val <= 57): #0-9\n",
    "        ascii_val -= 48\n",
    "    elif(ascii_val <= 90): #A-Z\n",
    "        ascii_val -= 55\n",
    "    else: #a-z\n",
    "        ascii_val -= 61\n",
    "    return ascii_val\n",
    "def int2label(i):\n",
    "    if(i <= 9): #0-9\n",
    "        i += 48\n",
    "    elif(i<=35): #A-Z\n",
    "        i += 55\n",
    "    else: #a-z\n",
    "        i += 61\n",
    "    return chr(i)"
   ]
  },
  {
   "cell_type": "code",
   "execution_count": 3,
   "metadata": {},
   "outputs": [],
   "source": [
    "#图片数据持久化，保存到本地，供下次直接调用\n",
    "def data_preprocessing(data_path, img_rows=32, img_cols=32):\n",
    "    if (os.path.exists(data_path + '/' + 'train_' + str(img_rows) +  '_' + str(img_cols) + '.npy') \n",
    "        and os.path.exists(data_path + '/' + 'test_' + str(img_rows) +  '_' + str(img_cols) + '.npy') \n",
    "        and os.path.exists(data_path + '/' + 'labels.npy')):\n",
    "        print('data have already processed')\n",
    "    else:\n",
    "        ### Image preprocessing ###\n",
    "        if not os.path.exists(data_path + \"/trainResized\"):\n",
    "            os.makedirs(data_path + \"/trainResized\")\n",
    "        if not os.path.exists(data_path + \"/testResized\"):\n",
    "            os.makedirs(data_path + \"/testResized\")\n",
    "        for set_type in ['train', 'test']:\n",
    "            files = natsorted(glob.glob(data_path + '/' + set_type + '/*'))\n",
    "            data = np.zeros((len(files), img_rows, img_cols))\n",
    "            for i, file_path in enumerate(files):\n",
    "                img = imread(file_path, as_grey=True) #读入的图为[0, 1]图\n",
    "                img_resized = resize(img, (img_rows, img_cols))\n",
    "                data[i] = img_resized\n",
    "                #Save image\n",
    "                new_name = \"/\".join(file_path.split(\"/\")[:-1] ) + \"Resized/\" + file_path.split(\"/\")[-1]\n",
    "                imsave(new_name, img_resized)\n",
    "            #Add channel/filter dimension [222, 32, 32] => [222, 1, 32, 32]\n",
    "            #train_img = np.stack(train_img)[..., None]\n",
    "            data = data[:, :, :, np.newaxis]\n",
    "            data = data.astype('float32')\n",
    "            #data /= 255\n",
    "            np.save(data_path + '/' + set_type + '_' + str(img_rows) +  '_' + str(img_cols) + '.npy', data)\n",
    "        ### Labels preprocessing ###\n",
    "        y_train = pd.read_csv(data_path + '/trainLabels.csv').values[:, 1]\n",
    "        #Convert one-hot vectors\n",
    "        Y_train = np.zeros((y_train.shape[0], len(np.unique(y_train))))\n",
    "        for i in range(y_train.shape[0]):\n",
    "            Y_train[i][label2int(y_train[i])] = 1\n",
    "        np.save(data_path + '/' + 'labels.npy', Y_train)\n",
    "    X_train_all = np.load(data_path + '/' + 'train_' + str(img_rows) +  '_' + str(img_cols) + '.npy')\n",
    "    Y_train_all = np.load(data_path + '/' + 'labels.npy')\n",
    "    test_all = np.load(data_path + '/' + 'test_' + str(img_rows) +  '_' + str(img_cols) + '.npy')\n",
    "    print('Finish')\n",
    "    return X_train_all, Y_train_all, test_all"
   ]
  },
  {
   "cell_type": "code",
   "execution_count": 4,
   "metadata": {
    "scrolled": true
   },
   "outputs": [
    {
     "name": "stdout",
     "output_type": "stream",
     "text": [
      "data have already processed\n",
      "Finish\n"
     ]
    }
   ],
   "source": [
    "data_path = 'data'\n",
    "X_train_all, Y_train_all, test_all = data_preprocessing(data_path, 32, 32)"
   ]
  },
  {
   "cell_type": "code",
   "execution_count": 5,
   "metadata": {},
   "outputs": [
    {
     "name": "stdout",
     "output_type": "stream",
     "text": [
      "(6283, 32, 32, 1) (6283, 62) (6220, 32, 32, 1)\n",
      "(32, 32, 1)\n",
      "[0. 0. 0. 0. 0. 0. 0. 0. 0. 0. 0. 0. 0. 0. 0. 0. 0. 0. 0. 0. 0. 0. 0. 0.\n",
      " 0. 0. 0. 0. 0. 0. 0. 0. 1. 0. 0. 0. 0. 0. 0. 0. 0. 0. 0. 0. 0. 0. 0. 0.\n",
      " 0. 0. 0. 0. 0. 0. 0. 0. 0. 0. 0. 0. 0. 0.]\n"
     ]
    },
    {
     "data": {
      "text/plain": [
       "<matplotlib.image.AxesImage at 0x7f30b7cf02e8>"
      ]
     },
     "execution_count": 5,
     "metadata": {},
     "output_type": "execute_result"
    },
    {
     "data": {
      "image/png": "[encoded data removed]",
      "text/plain": [
       "<Figure size 432x288 with 1 Axes>"
      ]
     },
     "metadata": {},
     "output_type": "display_data"
    }
   ],
   "source": [
    "print(X_train_all.shape, Y_train_all.shape, test_all.shape)\n",
    "sample_x = X_train_all[5]\n",
    "print(X_train_all[5].shape)\n",
    "print(Y_train_all[5])\n",
    "plt.title('train sample', size=16)\n",
    "plt.imshow(sample_x[..., 0])"
   ]
  },
  {
   "cell_type": "code",
   "execution_count": 6,
   "metadata": {},
   "outputs": [
    {
     "name": "stdout",
     "output_type": "stream",
     "text": [
      "(6083, 32, 32, 1) (200, 32, 32, 1)\n",
      "(62,)\n"
     ]
    }
   ],
   "source": [
    "### 划分验证集 ###\n",
    "#数据预处理 方法二\n",
    "VALIDATION_SIZE = 200    #验证集大小\n",
    "x_val, y_val = X_train_all[:VALIDATION_SIZE], Y_train_all[:VALIDATION_SIZE]\n",
    "x_train, y_train = X_train_all[VALIDATION_SIZE:], Y_train_all[VALIDATION_SIZE:]\n",
    "print(x_train.shape, x_val.shape)\n",
    "print(y_val[0].shape)"
   ]
  },
  {
   "cell_type": "code",
   "execution_count": 7,
   "metadata": {},
   "outputs": [],
   "source": [
    "###定义模型###\n",
    "def model(x, classes, is_training):\n",
    "    with tf.variable_scope('layer1-conv'):\n",
    "        conv1 = tf.layers.conv2d(x, 128, 3, strides=1, padding='SAME')\n",
    "        norm1 = tf.layers.batch_normalization(conv1, center=True, scale=True, training=is_training)\n",
    "        relu1 = tf.nn.relu(norm1)\n",
    "    with tf.variable_scope('layer2-conv-pool'):\n",
    "        conv2 = tf.layers.conv2d(relu1, 128, 3, strides=1, padding='SAME')\n",
    "        norm2 = tf.layers.batch_normalization(conv2, center=True, scale=True, training=is_training)\n",
    "        relu2 = tf.nn.relu(norm2)\n",
    "        pool2 = tf.layers.max_pooling2d(relu2, pool_size=[2, 2], strides=2, padding='SAME')\n",
    "    with tf.variable_scope('layer3-conv'):\n",
    "        conv3 = tf.layers.conv2d(pool2, 256, 3, strides=1, padding='SAME')\n",
    "        norm3 = tf.layers.batch_normalization(conv3, center=True, scale=True, training=is_training)\n",
    "        relu3 = tf.nn.relu(norm3)\n",
    "    with tf.variable_scope('layer4-conv-pool'):\n",
    "        conv4 = tf.layers.conv2d(relu3, 256, 3, strides=1, padding='SAME')\n",
    "        norm4 = tf.layers.batch_normalization(conv4, center=True, scale=True, training=is_training)\n",
    "        relu4 = tf.nn.relu(norm4)\n",
    "        pool4 = tf.layers.max_pooling2d(relu4, pool_size=[2, 2], strides=2, padding='SAME')\n",
    "    with tf.variable_scope('layer5-conv'):\n",
    "        conv5 = tf.layers.conv2d(pool4, 512, 3, strides=1, padding='SAME')\n",
    "        norm5 = tf.layers.batch_normalization(conv5, center=True, scale=True, training=is_training)\n",
    "        relu5 = tf.nn.relu(norm5)\n",
    "    with tf.variable_scope('layer6-conv'):\n",
    "        conv6 = tf.layers.conv2d(relu5, 512, 3, strides=1, padding='SAME')\n",
    "        norm6 = tf.layers.batch_normalization(conv6, center=True, scale=True, training=is_training)\n",
    "        relu6 = tf.nn.relu(norm6) \n",
    "    with tf.variable_scope('layer7-conv-pool'):\n",
    "        conv7 = tf.layers.conv2d(relu6, 512, 3, strides=1, padding='SAME')\n",
    "        norm7 = tf.layers.batch_normalization(conv7, center=True, scale=True, training=is_training)\n",
    "        relu7 = tf.nn.relu(norm7)\n",
    "        pool7 = tf.layers.max_pooling2d(relu7, pool_size=[2, 2], strides=2, padding='SAME')\n",
    "    with tf.variable_scope('layer8-FC'):\n",
    "        flatten = tf.reshape(pool7, [-1, 4*4*512])\n",
    "        affine8 = tf.layers.dense(flatten, 4096)\n",
    "        norm8 = tf.layers.batch_normalization(affine8, center=True, scale=True, training=is_training)\n",
    "        relu8 = tf.nn.relu(norm8)\n",
    "        if is_training == True:\n",
    "            relu8 = tf.layers.dropout(relu8, 0.5)   \n",
    "    with tf.variable_scope('layer9-FC'):\n",
    "        affine9 = tf.layers.dense(relu8, 4096)\n",
    "        norm9 = tf.layers.batch_normalization(affine9, center=True, scale=True, training=is_training)\n",
    "        relu9 = tf.nn.relu(norm9)\n",
    "        if is_training == True:\n",
    "            relu9 = tf.layers.dropout(relu9, 0.5)\n",
    "    with tf.variable_scope('layer10-FC'):\n",
    "        output = tf.layers.dense(relu9, classes)\n",
    "    return output"
   ]
  },
  {
   "cell_type": "code",
   "execution_count": 10,
   "metadata": {},
   "outputs": [
    {
     "name": "stdout",
     "output_type": "stream",
     "text": [
      "epoch 0 train loss is 3.481383 validataion loss is 48.421124\n",
      "epoch 5 train loss is 0.774207 validataion loss is 2.018104\n",
      "epoch 10 train loss is 0.244901 validataion loss is 1.319927\n",
      "epoch 15 train loss is 0.087827 validataion loss is 1.340053\n",
      "epoch 20 train loss is 0.121914 validataion loss is 1.553443\n",
      "epoch 25 train loss is 0.247994 validataion loss is 1.715017\n",
      "epoch 30 train loss is 0.019208 validataion loss is 1.698038\n",
      "epoch 35 train loss is 0.037844 validataion loss is 2.254268\n",
      "epoch 40 train loss is 0.018411 validataion loss is 1.798746\n",
      "epoch 45 train loss is 0.112877 validataion loss is 1.908942\n",
      "epoch 50 train loss is 0.039583 validataion loss is 1.935814\n",
      "epoch 55 train loss is 0.077879 validataion loss is 1.719483\n",
      "epoch 60 train loss is 0.016703 validataion loss is 1.678846\n",
      "epoch 65 train loss is 0.000784 validataion loss is 1.385618\n",
      "epoch 70 train loss is 0.000255 validataion loss is 1.403576\n",
      "epoch 75 train loss is 0.000041 validataion loss is 1.424350\n",
      "epoch 80 train loss is 0.000548 validataion loss is 1.439452\n",
      "epoch 85 train loss is 0.000044 validataion loss is 1.452702\n",
      "epoch 90 train loss is 0.000032 validataion loss is 1.465797\n",
      "epoch 95 train loss is 0.000012 validataion loss is 1.471208\n",
      "epoch 100 train loss is 0.000027 validataion loss is 1.481421\n",
      "epoch 105 train loss is 0.000042 validataion loss is 1.490267\n",
      "epoch 110 train loss is 0.000013 validataion loss is 1.501269\n",
      "early stoping\n"
     ]
    }
   ],
   "source": [
    "### 训练 ###\n",
    "#训练参数\n",
    "BATCH_SIZE = 128\n",
    "EPOCHS = 500             #迭代次数\n",
    "EARLY_STOP_PATIENCE = 100 #控制early stopping的参数\n",
    "\n",
    "tf.reset_default_graph()\n",
    "x_data = tf.placeholder(tf.float32, [None, 32, 32, 1])\n",
    "y_data = tf.placeholder(tf.float32, [None, 62])\n",
    "is_training = tf.placeholder(tf.bool)\n",
    "ckpt_path = './model/mode.ckpt'\n",
    "\n",
    "predict = model(x_data, 62, is_training)\n",
    "\n",
    "loss = tf.reduce_mean(tf.nn.softmax_cross_entropy_with_logits(logits=predict, labels=y_data))\n",
    "with tf.control_dependencies(tf.get_collection(tf.GraphKeys.UPDATE_OPS)):\n",
    "    train_step = tf.train.AdamOptimizer(1e-3).minimize(loss)\n",
    "\n",
    "saver = tf.train.Saver()\n",
    "with tf.Session() as sess:\n",
    "    sess.run(tf.global_variables_initializer())\n",
    "    best_validation_loss = 1000000.0\n",
    "    current_epoch = 0\n",
    "    \n",
    "    epoch = EPOCHS\n",
    "    batch_size = BATCH_SIZE\n",
    "    train_size = len(x_train)\n",
    "    train_index = list(range(train_size))\n",
    "    for n in range(epoch):\n",
    "        random.shuffle(train_index)  # 每个epoch都shuffle一下效果更好\n",
    "        x_train_, y_train_ = x_train[train_index], y_train[train_index]\n",
    "        #添加交叉验证\n",
    "        #x_train, x_val, y_train, y_val = train_test_split(train_img, train_y, test_size=0.1, random_state=42, shuffle=True)\n",
    "        for i in range(0, train_size, batch_size):\n",
    "            x_batch = x_train_[i : i + batch_size]\n",
    "            y_batch = y_train_[i : i + batch_size]\n",
    "            _, loss_step = sess.run([train_step, loss], \\\n",
    "                             feed_dict={x_data:x_batch, y_data:y_batch, is_training:True})\n",
    "        if n % 5 == 0:\n",
    "            validation_loss = loss.eval(feed_dict={x_data:x_val, y_data:y_val, is_training:False})\n",
    "            print(\"epoch %d train loss is %f validataion loss is %f\" % (n, loss_step, validation_loss))\n",
    "        if validation_loss < best_validation_loss:\n",
    "            best_validation_loss = validation_loss\n",
    "            current_epoch = n\n",
    "            saver.save(sess, ckpt_path)\n",
    "        elif (n - current_epoch) >= EARLY_STOP_PATIENCE:\n",
    "            print('early stoping')\n",
    "            break  "
   ]
  },
  {
   "cell_type": "code",
   "execution_count": 28,
   "metadata": {},
   "outputs": [],
   "source": [
    "### 计算混淆矩阵  ###\n",
    "def testModel(ckpt_path):\n",
    "    tf.reset_default_graph()#mo\n",
    "    x_data = tf.placeholder(tf.float32, [None, 32, 32, 1])\n",
    "    y_data = tf.placeholder(tf.float32, [None, 62])\n",
    "    is_training = tf.placeholder(tf.bool)\n",
    "    out = model(x_data, 62, is_training)\n",
    "    accuracy = tf.reduce_mean(tf.cast(tf.equal(tf.argmax(out, 1), tf.argmax(y_data, 1)), tf.float32))\n",
    "    saver = tf.train.Saver() \n",
    "    with tf.Session() as sess:\n",
    "        saver.restore(sess, ckpt_path)\n",
    "        #sess.run(out, feed_dict={x_data:x_val, y_data:y_val, is_training:False})\n",
    "        y_hat = out.eval({x_data: x_val, is_training:False})\n",
    "        y_pred = np.argmax(y_hat, axis=1)\n",
    "        y_true = np.argmax(y_val, axis=1)\n",
    "        cm = confusion_matrix(y_true, y_pred)\n",
    "        '''\n",
    "        for i in range(cm.shape[0]):# 混淆矩阵\n",
    "            for j in range(cm.shape[1]):\n",
    "                print(cm[i][j], end=' ')\n",
    "            print('\\n')\n",
    "        '''\n",
    "        print(cm)\n",
    "        acc = accuracy.eval(feed_dict={x_data:x_val, y_data:y_val, is_training:False})\n",
    "        print(acc)"
   ]
  },
  {
   "cell_type": "code",
   "execution_count": 29,
   "metadata": {},
   "outputs": [
    {
     "name": "stdout",
     "output_type": "stream",
     "text": [
      "INFO:tensorflow:Restoring parameters from ./model/mode.ckpt\n",
      "[[2 0 0 ... 0 0 0]\n",
      " [0 3 0 ... 0 0 0]\n",
      " [0 0 2 ... 0 0 0]\n",
      " ...\n",
      " [0 0 0 ... 3 0 0]\n",
      " [0 0 0 ... 0 1 0]\n",
      " [0 0 0 ... 0 0 0]]\n",
      "0.73\n"
     ]
    }
   ],
   "source": [
    "ckpt_path = \"./model/mode.ckpt\"\n",
    "testModel(ckpt_path)"
   ]
  },
  {
   "cell_type": "code",
   "execution_count": 14,
   "metadata": {},
   "outputs": [],
   "source": [
    "### Submit ###\n",
    "def submit(model_save_path, output_file):\n",
    "    tf.reset_default_graph()\n",
    "    x_test_data = tf.placeholder(tf.float32, [None, 32, 32, 1])\n",
    "    is_training = tf.placeholder(tf.bool)\n",
    "    logits = model(x_test_data, 62, is_training)\n",
    "    \n",
    "    saver = tf.train.Saver()\n",
    "    with tf.Session() as sess:\n",
    "        saver.restore(sess, model_save_path)\n",
    "        \n",
    "        y_pred = []\n",
    "        test_size = len(test_all)\n",
    "        batch_size = 1\n",
    "        for i in range(0, test_size, batch_size):\n",
    "            x_test_batch = test_all[i*batch_size : (i+1)*batch_size]\n",
    "            y_hat = logits.eval({x_test_data: x_test_batch, is_training:False})\n",
    "            y_pred_batch = np.argmax(y_hat, axis=1)\n",
    "            #vInt2label = np.vectorize(int2label)\n",
    "            y_pred.append(int2label(y_pred_batch))      \n",
    "        with open(output_file, 'w') as f:\n",
    "            f.write('ID,Class\\n')\n",
    "            for i in range(len(y_pred)):\n",
    "                f.write(\"\".join([str(i+6284), ',', y_pred[i], '\\n']))\n",
    "        print('Finish!')"
   ]
  },
  {
   "cell_type": "code",
   "execution_count": 15,
   "metadata": {},
   "outputs": [
    {
     "name": "stdout",
     "output_type": "stream",
     "text": [
      "INFO:tensorflow:Restoring parameters from ./model/mode.ckpt\n",
      "Finish!\n"
     ]
    }
   ],
   "source": [
    "model_save_path = \"./model/mode.ckpt\"\n",
    "output_file = \"submission.csv\"\n",
    "submit(model_save_path, output_file)"
   ]
  },
  {
   "cell_type": "code",
   "execution_count": null,
   "metadata": {},
   "outputs": [],
   "source": []
  }
 ],
 "metadata": {
  "kernelspec": {
   "display_name": "Python 3",
   "language": "python",
   "name": "python3"
  },
  "language_info": {
   "codemirror_mode": {
    "name": "ipython",
    "version": 3
   },
   "file_extension": ".py",
   "mimetype": "text/x-python",
   "name": "python",
   "nbconvert_exporter": "python",
   "pygments_lexer": "ipython3",
   "version": "3.6.5"
  }
 },
 "nbformat": 4,
 "nbformat_minor": 2
}
