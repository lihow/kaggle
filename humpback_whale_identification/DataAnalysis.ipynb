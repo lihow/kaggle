{
 "cells": [
  {
   "cell_type": "code",
   "execution_count": 1,
   "metadata": {},
   "outputs": [],
   "source": [
    "import os\n",
    "import cv2\n",
    "import glob\n",
    "import time\n",
    "import random\n",
    "import shutil #拷贝文件\n",
    "import numpy as np\n",
    "import mpl_toolkits\n",
    "import imgaug as ia\n",
    "import pandas as pd\n",
    "from progressbar import * #进度条\n",
    "from natsort import natsorted\n",
    "import matplotlib.pyplot as plt\n",
    "from skimage import io,transform\n",
    "from imgaug import augmenters as iaa\n",
    "from imgaug import parameters as iap\n",
    "from skimage.io import imread, imsave"
   ]
  },
  {
   "cell_type": "code",
   "execution_count": 2,
   "metadata": {},
   "outputs": [],
   "source": [
    "'''\n",
    "训练数据按类型分类\n",
    "'''\n",
    "def split_data_as_class(data_path='data', new_data_floder = 'data/train_classes'):  \n",
    "    files = glob.glob(data_path + '/train/*')\n",
    "    labels = pd.read_csv(data_path + '/train.csv')\n",
    "    total = len(files)\n",
    "    pbar = ProgressBar().start()\n",
    "    for i, file_path in enumerate(files):\n",
    "        pbar.update(int((i / (total - 1)) * 100))#进度条\n",
    "        time.sleep(0.01)\n",
    "        \n",
    "        img =  file_path.split('/')[-1]\n",
    "        Id = labels[labels.Image == img].Id.tolist()[0]\n",
    "        new_floder = new_data_floder + '/' + Id\n",
    "        if not os.path.exists(new_floder):\n",
    "            os.makedirs(new_floder)\n",
    "        new_file_path = new_floder + '/' + file_path.split(\"/\")[-1]\n",
    "        shutil.copyfile(file_path, new_file_path)\n",
    "    pbar.finish()\n",
    "    #print('Finish!')"
   ]
  },
  {
   "cell_type": "code",
   "execution_count": 3,
   "metadata": {},
   "outputs": [
    {
     "name": "stderr",
     "output_type": "stream",
     "text": [
      "100% |########################################################################|\n"
     ]
    }
   ],
   "source": [
    "split_data_as_class()"
   ]
  },
  {
   "cell_type": "code",
   "execution_count": 2,
   "metadata": {},
   "outputs": [
    {
     "name": "stdout",
     "output_type": "stream",
     "text": [
      "           Image         Id\n",
      "0  0000e88ab.jpg  w_f48451c\n",
      "1  0001f9222.jpg  w_c3d896a\n",
      "2  00029d126.jpg  w_20df2c5\n",
      "3  00050a15a.jpg  new_whale\n",
      "4  0005c1ef8.jpg  new_whale\n",
      "(25361, 2)\n",
      "5005\n"
     ]
    }
   ],
   "source": [
    "train_csv = pd.read_csv(\"data/train.csv\")\n",
    "print(train_csv.head())\n",
    "print(train_csv.shape)\n",
    "print(len(train_csv['Id'].unique().tolist()))"
   ]
  },
  {
   "cell_type": "code",
   "execution_count": 3,
   "metadata": {},
   "outputs": [
    {
     "name": "stdout",
     "output_type": "stream",
     "text": [
      "           Image\n",
      "Id              \n",
      "new_whale   9664\n",
      "w_23a388d     73\n",
      "w_9b5109b     65\n",
      "w_9c506f6     62\n",
      "w_0369a5c     61\n",
      "w_700ebb4     57\n",
      "w_3de579a     54\n",
      "w_564a34b     51\n",
      "w_fd3e556     50\n",
      "w_88e4537     49\n",
      "w_2b069ba     48\n",
      "w_d405854     47\n",
      "w_789c969     45\n",
      "w_f0fe284     45\n",
      "w_5e8e218     40\n",
      "w_778e474     40\n",
      "w_343f088     40\n",
      "w_5a2634c     37\n",
      "w_a9304b9     37\n",
      "w_60ce6fc     37\n",
      "w_6822dbc     36\n",
      "w_af367c3     35\n",
      "w_1ca9ab1     34\n",
      "w_f765256     34\n",
      "w_17b0d3a     33\n",
      "w_d72771c     32\n",
      "w_8c25681     31\n",
      "w_08630fd     31\n",
      "w_6cda039     31\n",
      "w_51fc1fc     30\n",
      "...          ...\n",
      "w_ad01432      1\n",
      "w_491bdcb      1\n",
      "w_ad2bb89      1\n",
      "w_48cc590      1\n",
      "w_4982a49      1\n",
      "w_ad6df15      1\n",
      "w_ad7b758      1\n",
      "w_ad880b8      1\n",
      "w_48b6083      1\n",
      "w_48b1730      1\n",
      "w_adcaf2a      1\n",
      "w_497efb9      1\n",
      "w_49ae16f      1\n",
      "w_abd9d0b      1\n",
      "w_4a1b777      1\n",
      "w_abeab1e      1\n",
      "w_abee142      1\n",
      "w_4ac8e76      1\n",
      "w_4ab6b16      1\n",
      "w_4a8467f      1\n",
      "w_ac26398      1\n",
      "w_ac608c7      1\n",
      "w_49cd60d      1\n",
      "w_ac6aee2      1\n",
      "w_ac73445      1\n",
      "w_49ee8e0      1\n",
      "w_49e0d44      1\n",
      "w_49d1bcd      1\n",
      "w_49ce813      1\n",
      "w_ffe8693      1\n",
      "\n",
      "[5005 rows x 1 columns]\n"
     ]
    }
   ],
   "source": [
    "print(train_csv.groupby('Id').count().sort_values(['Image'], ascending=False))"
   ]
  },
  {
   "cell_type": "code",
   "execution_count": 5,
   "metadata": {},
   "outputs": [
    {
     "name": "stdout",
     "output_type": "stream",
     "text": [
      "(32, 1)\n"
     ]
    }
   ],
   "source": [
    "temp_df = train_csv.groupby('Id').count()\n",
    "#temp_df_subset = temp_df[temp_df.Image == 1]\n",
    "temp_df_subset = temp_df[temp_df.Image >= 30]\n",
    "print(temp_df_subset.shape)"
   ]
  },
  {
   "cell_type": "code",
   "execution_count": null,
   "metadata": {},
   "outputs": [],
   "source": []
  },
  {
   "cell_type": "code",
   "execution_count": 5,
   "metadata": {},
   "outputs": [
    {
     "data": {
      "image/png": "[encoded data removed]",
      "text/plain": [
       "<Figure size 576x468 with 1 Axes>"
      ]
     },
     "metadata": {},
     "output_type": "display_data"
    }
   ],
   "source": [
    "'''\n",
    "原始数据分析\n",
    "'''\n",
    "### 数目统计\n",
    "floders = natsorted(glob.glob('data/train_classes/*'))\n",
    "classes = []\n",
    "file_num = []\n",
    "for i, floder in enumerate(floders):\n",
    "    floder_name = floder.split(\"/\")[-1]\n",
    "    classes.append(floder_name)\n",
    "    file_num.append(len(glob.glob(floder + '/*')))\n",
    "#print(classes)\n",
    "plt.figure(figsize=(8, 3.5))\n",
    "plt.bar(range(len(file_num)), file_num, tick_label=classes)\n",
    "plt.show()"
   ]
  },
  {
   "cell_type": "code",
   "execution_count": 11,
   "metadata": {},
   "outputs": [
    {
     "name": "stdout",
     "output_type": "stream",
     "text": [
      "5005\n"
     ]
    }
   ],
   "source": [
    "print(len(file_num))"
   ]
  },
  {
   "cell_type": "code",
   "execution_count": null,
   "metadata": {},
   "outputs": [],
   "source": [
    "### 数据可视化 ###\n",
    "plt.figure(figsize=(11, 10))\n",
    "num_classes = len(classes)\n",
    "sample_pre_class = 10\n",
    "\n",
    "min_area = 10000\n",
    "min_rows = 0\n",
    "min_cols = 0\n",
    "max_area = 0\n",
    "max_rows = 0\n",
    "max_cols = 0\n",
    "number = 0\n",
    "for i, floder in enumerate(floders):\n",
    "    files = glob.glob(floder + '/*')\n",
    "    number += len(files)\n",
    "    samples = random.sample(files, sample_pre_class)\n",
    "    for idx, file in enumerate(samples):\n",
    "        img = imread(file)\n",
    "        #计算大小\n",
    "        rows, cols = img.shape[0], img.shape[1]\n",
    "        if cols * rows < min_area:\n",
    "            min_rows = rows\n",
    "            min_cols = cols\n",
    "        if cols * rows > max_area:\n",
    "            max_rows = rows\n",
    "            max_cols = cols\n",
    "        dst = transform.resize(img, (244, 244))\n",
    "        plt_idx = i * (sample_pre_class+1) + idx + 1\n",
    "        #print(i, idx, plt_idx)\n",
    "        plt.subplot(num_classes, sample_pre_class+1, plt_idx)\n",
    "\n",
    "        plt.imshow(dst)\n",
    "        plt.axis('off')\n",
    "        if idx == sample_pre_class-1:\n",
    "            plt.subplot(num_classes, sample_pre_class+1, plt_idx+1)\n",
    "            floder_name = floder.split(\"/\")[-1]\n",
    "            plt.text(0.5, 0.5, floder_name,size=15,  verticalalignment='center')\n",
    "            plt.axis('off')\n",
    "plt.show()  \n",
    "print('训练数据总数为:%d, 图片最大的尺寸为：(%d, %d), 最小的尺寸为: (%d, %d)' %(number, max_cols, max_rows, min_cols, min_rows))"
   ]
  }
 ],
 "metadata": {
  "kernelspec": {
   "display_name": "Python 3",
   "language": "python",
   "name": "python3"
  },
  "language_info": {
   "codemirror_mode": {
    "name": "ipython",
    "version": 3
   },
   "file_extension": ".py",
   "mimetype": "text/x-python",
   "name": "python",
   "nbconvert_exporter": "python",
   "pygments_lexer": "ipython3",
   "version": "3.6.5"
  }
 },
 "nbformat": 4,
 "nbformat_minor": 2
}
