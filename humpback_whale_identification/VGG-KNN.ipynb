{
 "cells": [
  {
   "cell_type": "markdown",
   "metadata": {},
   "source": [
    "利用vgg提取每一类的平均的特征，保存特征"
   ]
  },
  {
   "cell_type": "code",
   "execution_count": 1,
   "metadata": {},
   "outputs": [],
   "source": [
    "import os\n",
    "import glob\n",
    "import json\n",
    "import torch\n",
    "import torchvision\n",
    "import numpy as np\n",
    "import pandas as pd\n",
    "import torch.nn as nn\n",
    "from PIL import Image\n",
    "#from progressbar import * #进度条\n",
    "from tqdm import tqdm #进度条\n",
    "from torchnet import meter\n",
    "from natsort import natsorted\n",
    "import matplotlib.pyplot as plt\n",
    "import torch.nn.functional as F #torch是关于运算的包\n",
    "from torch.autograd import Variable\n",
    "from torch.utils.data import Dataset\n",
    "from torchvision import transforms as T\n",
    "from torchvision import datasets,transforms, models #torchvision则是打包了一些数据集\n",
    "os.environ['CUDA_VISIBLE_DEVICES']='2'"
   ]
  },
  {
   "cell_type": "markdown",
   "metadata": {},
   "source": [
    "### Vgg模型 "
   ]
  },
  {
   "cell_type": "code",
   "execution_count": 140,
   "metadata": {},
   "outputs": [
    {
     "name": "stdout",
     "output_type": "stream",
     "text": [
      "new_whale    9664\n",
      "w_23a388d      73\n",
      "w_9b5109b      65\n",
      "w_9c506f6      62\n",
      "w_0369a5c      61\n",
      "w_700ebb4      57\n",
      "w_3de579a      54\n",
      "w_564a34b      51\n",
      "w_fd3e556      50\n",
      "w_88e4537      49\n",
      "w_2b069ba      48\n",
      "w_d405854      47\n",
      "w_f0fe284      45\n",
      "w_789c969      45\n",
      "w_343f088      40\n",
      "w_5e8e218      40\n",
      "w_778e474      40\n",
      "w_60ce6fc      37\n",
      "w_5a2634c      37\n",
      "w_a9304b9      37\n",
      "w_6822dbc      36\n",
      "w_af367c3      35\n",
      "w_f765256      34\n",
      "w_1ca9ab1      34\n",
      "w_17b0d3a      33\n",
      "w_d72771c      32\n",
      "w_6cda039      31\n",
      "w_8c25681      31\n",
      "w_08630fd      31\n",
      "w_04003e9      30\n",
      "             ... \n",
      "w_3791ec3       1\n",
      "w_ca93339       1\n",
      "w_7d02551       1\n",
      "w_bc4da71       1\n",
      "w_7c26ef7       1\n",
      "w_c1bab16       1\n",
      "w_a42c505       1\n",
      "w_6441130       1\n",
      "w_2980f85       1\n",
      "w_297e53a       1\n",
      "w_5fcd8d4       1\n",
      "w_e014c37       1\n",
      "w_7efe670       1\n",
      "w_17be6f2       1\n",
      "w_c5a7b38       1\n",
      "w_bbdfec9       1\n",
      "w_90df70c       1\n",
      "w_58ddf90       1\n",
      "w_391ef09       1\n",
      "w_210b625       1\n",
      "w_0a1fcd6       1\n",
      "w_ecad2c9       1\n",
      "w_0af3867       1\n",
      "w_dc4c211       1\n",
      "w_a0c732f       1\n",
      "w_eae91de       1\n",
      "w_bf46204       1\n",
      "w_abee142       1\n",
      "w_d9993ee       1\n",
      "w_8fa8bef       1\n",
      "Name: Id, Length: 5005, dtype: int64\n"
     ]
    }
   ],
   "source": [
    "train_csv = pd.read_csv(\"data/train.csv\")\n",
    "#temp_df = train_csv.groupby('Id')['Id'].agg({'cnt':'count'})\n",
    "temp_df = train_csv['Id'].value_counts()\n",
    "print(temp_df)\n",
    "#temp_df_subset = temp_df[temp_df.Image >= 30]\n",
    "#print(temp_df_subset)"
   ]
  },
  {
   "cell_type": "code",
   "execution_count": 3,
   "metadata": {},
   "outputs": [],
   "source": [
    "#vgg_model = models.vgg16(pretrained=True)\n",
    "#print(vgg_model)\n",
    "class Encoder(nn.Module):\n",
    "    '''\n",
    "    提取vgg的4096向量\n",
    "    '''\n",
    "    def __init__(self):\n",
    "        super(Encoder, self).__init__()\n",
    "        VGG = models.vgg16(pretrained=True)\n",
    "        self.feature = VGG.features\n",
    "        self.classifier = nn.Sequential(*list(VGG.classifier.children())[:-3])\n",
    "        pretrained_dict = VGG.state_dict()\n",
    "        model_dict = self.classifier.state_dict()\n",
    "        pretrained_dict = {k: v for k, v in pretrained_dict.items() if k in model_dict}\n",
    "        model_dict.update(pretrained_dict)\n",
    "        self.classifier.load_state_dict(model_dict)\n",
    "    def forward(self, x):\n",
    "        output = self.feature(x)\n",
    "        output = output.view(output.size(0), -1)\n",
    "        output = self.classifier(output)\n",
    "        return output"
   ]
  },
  {
   "cell_type": "code",
   "execution_count": 4,
   "metadata": {},
   "outputs": [],
   "source": [
    "#print(Encoder())\n",
    "def extractor(img_path, net):\n",
    "    transform = transforms.Compose([\n",
    "        transforms.Resize(256),\n",
    "        transforms.CenterCrop(224),\n",
    "        transforms.ToTensor()\n",
    "    ])\n",
    "    img = Image.open(img_path).convert(\"RGB\")\n",
    "    img = transform(img)\n",
    "    img = Variable(torch.unsqueeze(img, dim=0).float(), requires_grad=False)#增加一维\n",
    "    \n",
    "    net = net.cuda()\n",
    "    img = img.cuda()\n",
    "    y = net(img).cpu()\n",
    "    y = torch.squeeze(y)\n",
    "    y = y.data.numpy()\n",
    "    \n",
    "    return y"
   ]
  },
  {
   "cell_type": "code",
   "execution_count": 5,
   "metadata": {},
   "outputs": [
    {
     "name": "stdout",
     "output_type": "stream",
     "text": [
      "(4096,)\n"
     ]
    }
   ],
   "source": [
    "img_path = 'data/train/1cf255a78.jpg'\n",
    "feature = extractor(img_path, Encoder())\n",
    "print(feature.shape)"
   ]
  },
  {
   "cell_type": "markdown",
   "metadata": {},
   "source": [
    "### 提取特征"
   ]
  },
  {
   "cell_type": "code",
   "execution_count": 115,
   "metadata": {},
   "outputs": [],
   "source": [
    "def extract_train_feature(dir_path, model, feature_dim=4096):\n",
    "    data = np.zeros((1, feature_dim))\n",
    "    label = []\n",
    "    for file in tqdm(os.listdir(dir_path)):\n",
    "        if file == 'new_whale':\n",
    "            continue\n",
    "        path = os.path.join(dir_path, file)\n",
    "        if os.path.isdir(path):\n",
    "            feature_tmp = np.zeros((1, feature_dim))\n",
    "            label_name = file\n",
    "            img_num = 0\n",
    "            for img in os.listdir(path):\n",
    "                img_path = os.path.join(path, img)\n",
    "                feature = extractor(img_path, model)\n",
    "                img_num += 1\n",
    "                feature_tmp += feature\n",
    "            if img_num > 0:\n",
    "                feature = feature_tmp / img_num\n",
    "                data = np.concatenate((data, feature))\n",
    "                label.append(label_name)\n",
    "    data = data[1:, :]\n",
    "    np.savetxt('model/train_feature.txt', data, fmt='%f')\n",
    "    label_file = open('model/label.txt', 'w')\n",
    "    json.dump(label, label_file)\n",
    "    label_file.close"
   ]
  },
  {
   "cell_type": "code",
   "execution_count": 23,
   "metadata": {},
   "outputs": [
    {
     "name": "stderr",
     "output_type": "stream",
     "text": [
      "100%|██████████| 5005/5005 [10:12<00:00,  8.17it/s]\n"
     ]
    }
   ],
   "source": [
    "extract_train_feature('data/train_classes', Encoder())"
   ]
  },
  {
   "cell_type": "markdown",
   "metadata": {},
   "source": [
    "### 找到最近的5个类别"
   ]
  },
  {
   "cell_type": "code",
   "execution_count": 39,
   "metadata": {},
   "outputs": [],
   "source": [
    "train_features = np.loadtxt('model/train_feature.txt', dtype=float)\n",
    "train_labels = open('model/label.txt', 'r')\n",
    "labels = json.load(train_labels)\n",
    "train_labels.close()\n",
    "#print(train_features)\n",
    "#print(labels)"
   ]
  },
  {
   "cell_type": "code",
   "execution_count": 116,
   "metadata": {},
   "outputs": [],
   "source": [
    "def top_5_classes(test_feature, train_features, labels):\n",
    "    #print(train_features.shape)\n",
    "    distance = train_features - test_feature\n",
    "    euclidean_distance = np.linalg.norm(distance, axis=1, keepdims=True)\n",
    "    euclidean_distance = euclidean_distance.flatten()\n",
    "    min_distance_idx = np.argsort(euclidean_distance)[:5]\n",
    "    min_distance = np.sort(euclidean_distance)[:5]\n",
    "    #print(min_distance)\n",
    "    classes = []\n",
    "    for idx in min_distance_idx:\n",
    "        if euclidean_distance[idx] > 40:\n",
    "            classes.append('new_whale')\n",
    "        else:\n",
    "            classes.append(labels[idx])\n",
    "    return classes"
   ]
  },
  {
   "cell_type": "code",
   "execution_count": 117,
   "metadata": {},
   "outputs": [
    {
     "name": "stdout",
     "output_type": "stream",
     "text": [
      "['new_whale', 'new_whale', 'new_whale', 'new_whale', 'new_whale']\n"
     ]
    }
   ],
   "source": [
    "test_img = 'data/train/8c777dd58.jpg'\n",
    "feature = extractor(test_img, Encoder())\n",
    "predict_label = top_5_classes(feature, train_features, labels)\n",
    "print(predict_label)"
   ]
  },
  {
   "cell_type": "code",
   "execution_count": 118,
   "metadata": {},
   "outputs": [],
   "source": [
    "def submmit(test_floder, model, output_file):\n",
    "    files = natsorted(glob.glob(test_floder + '/*'))\n",
    "    f = open(output_file, 'w')\n",
    "    f.write('Image,Id\\n')\n",
    "    for file in tqdm(files):\n",
    "        feature = extractor(file, model)\n",
    "        top_5 = top_5_classes(feature, train_features, labels)\n",
    "        img_name = file.split('/')[-1]\n",
    "        f.write(' '.join([img_name+',', top_5[0], top_5[1], top_5[2], top_5[3],top_5[4], '\\n']))\n",
    "    f.close()"
   ]
  },
  {
   "cell_type": "code",
   "execution_count": 119,
   "metadata": {},
   "outputs": [
    {
     "name": "stderr",
     "output_type": "stream",
     "text": [
      "100%|██████████| 7960/7960 [31:26<00:00,  4.06it/s]\n"
     ]
    }
   ],
   "source": [
    "submmit('data/test', Encoder(), 'submission.csv')"
   ]
  },
  {
   "cell_type": "code",
   "execution_count": null,
   "metadata": {},
   "outputs": [],
   "source": []
  }
 ],
 "metadata": {
  "kernelspec": {
   "display_name": "Python 3",
   "language": "python",
   "name": "python3"
  },
  "language_info": {
   "codemirror_mode": {
    "name": "ipython",
    "version": 3
   },
   "file_extension": ".py",
   "mimetype": "text/x-python",
   "name": "python",
   "nbconvert_exporter": "python",
   "pygments_lexer": "ipython3",
   "version": "3.6.5"
  }
 },
 "nbformat": 4,
 "nbformat_minor": 2
}
